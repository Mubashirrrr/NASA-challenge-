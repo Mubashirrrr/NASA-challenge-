{
  "nbformat": 4,
  "nbformat_minor": 0,
  "metadata": {
    "colab": {
      "provenance": []
    },
    "kernelspec": {
      "name": "python3",
      "display_name": "Python 3"
    },
    "language_info": {
      "name": "python"
    }
  },
  "cells": [
    {
      "cell_type": "code",
      "execution_count": 3,
      "metadata": {
        "colab": {
          "base_uri": "https://localhost:8080/"
        },
        "id": "mp5__MgEA3qg",
        "outputId": "07bd9a94-c223-4182-963b-dfc364f75ff8"
      },
      "outputs": [
        {
          "output_type": "stream",
          "name": "stdout",
          "text": [
            "Collecting ydata_profiling\n",
            "  Downloading ydata_profiling-4.5.1-py2.py3-none-any.whl (357 kB)\n",
            "\u001b[?25l     \u001b[90m━━━━━━━━━━━━━━━━━━━━━━━━━━━━━━━━━━━━━━━━\u001b[0m \u001b[32m0.0/357.3 kB\u001b[0m \u001b[31m?\u001b[0m eta \u001b[36m-:--:--\u001b[0m\r\u001b[2K     \u001b[91m━━━━━━━━━━━━━\u001b[0m\u001b[90m╺\u001b[0m\u001b[90m━━━━━━━━━━━━━━━━━━━━━━━━━\u001b[0m \u001b[32m122.9/357.3 kB\u001b[0m \u001b[31m3.7 MB/s\u001b[0m eta \u001b[36m0:00:01\u001b[0m\r\u001b[2K     \u001b[90m━━━━━━━━━━━━━━━━━━━━━━━━━━━━━━━━━━━━━━━\u001b[0m \u001b[32m357.3/357.3 kB\u001b[0m \u001b[31m5.9 MB/s\u001b[0m eta \u001b[36m0:00:00\u001b[0m\n",
            "\u001b[?25hRequirement already satisfied: scipy<1.12,>=1.4.1 in /usr/local/lib/python3.10/dist-packages (from ydata_profiling) (1.11.3)\n",
            "Requirement already satisfied: pandas!=1.4.0,<2.1,>1.1 in /usr/local/lib/python3.10/dist-packages (from ydata_profiling) (1.5.3)\n",
            "Requirement already satisfied: matplotlib<4,>=3.2 in /usr/local/lib/python3.10/dist-packages (from ydata_profiling) (3.7.1)\n",
            "Requirement already satisfied: pydantic<2,>=1.8.1 in /usr/local/lib/python3.10/dist-packages (from ydata_profiling) (1.10.13)\n",
            "Requirement already satisfied: PyYAML<6.1,>=5.0.0 in /usr/local/lib/python3.10/dist-packages (from ydata_profiling) (6.0.1)\n",
            "Requirement already satisfied: jinja2<3.2,>=2.11.1 in /usr/local/lib/python3.10/dist-packages (from ydata_profiling) (3.1.2)\n",
            "Collecting visions[type_image_path]==0.7.5 (from ydata_profiling)\n",
            "  Downloading visions-0.7.5-py3-none-any.whl (102 kB)\n",
            "\u001b[2K     \u001b[90m━━━━━━━━━━━━━━━━━━━━━━━━━━━━━━━━━━━━━━\u001b[0m \u001b[32m102.7/102.7 kB\u001b[0m \u001b[31m11.7 MB/s\u001b[0m eta \u001b[36m0:00:00\u001b[0m\n",
            "\u001b[?25hRequirement already satisfied: numpy<1.24,>=1.16.0 in /usr/local/lib/python3.10/dist-packages (from ydata_profiling) (1.23.5)\n",
            "Collecting htmlmin==0.1.12 (from ydata_profiling)\n",
            "  Downloading htmlmin-0.1.12.tar.gz (19 kB)\n",
            "  Preparing metadata (setup.py) ... \u001b[?25l\u001b[?25hdone\n",
            "Collecting phik<0.13,>=0.11.1 (from ydata_profiling)\n",
            "  Downloading phik-0.12.3-cp310-cp310-manylinux_2_17_x86_64.manylinux2014_x86_64.whl (679 kB)\n",
            "\u001b[2K     \u001b[90m━━━━━━━━━━━━━━━━━━━━━━━━━━━━━━━━━━━━━━\u001b[0m \u001b[32m679.5/679.5 kB\u001b[0m \u001b[31m27.3 MB/s\u001b[0m eta \u001b[36m0:00:00\u001b[0m\n",
            "\u001b[?25hRequirement already satisfied: requests<3,>=2.24.0 in /usr/local/lib/python3.10/dist-packages (from ydata_profiling) (2.31.0)\n",
            "Requirement already satisfied: tqdm<5,>=4.48.2 in /usr/local/lib/python3.10/dist-packages (from ydata_profiling) (4.66.1)\n",
            "Requirement already satisfied: seaborn<0.13,>=0.10.1 in /usr/local/lib/python3.10/dist-packages (from ydata_profiling) (0.12.2)\n",
            "Collecting multimethod<2,>=1.4 (from ydata_profiling)\n",
            "  Downloading multimethod-1.10-py3-none-any.whl (9.9 kB)\n",
            "Requirement already satisfied: statsmodels<1,>=0.13.2 in /usr/local/lib/python3.10/dist-packages (from ydata_profiling) (0.14.0)\n",
            "Collecting typeguard<3,>=2.13.2 (from ydata_profiling)\n",
            "  Downloading typeguard-2.13.3-py3-none-any.whl (17 kB)\n",
            "Collecting imagehash==4.3.1 (from ydata_profiling)\n",
            "  Downloading ImageHash-4.3.1-py2.py3-none-any.whl (296 kB)\n",
            "\u001b[2K     \u001b[90m━━━━━━━━━━━━━━━━━━━━━━━━━━━━━━━━━━━━━━\u001b[0m \u001b[32m296.5/296.5 kB\u001b[0m \u001b[31m27.7 MB/s\u001b[0m eta \u001b[36m0:00:00\u001b[0m\n",
            "\u001b[?25hRequirement already satisfied: wordcloud>=1.9.1 in /usr/local/lib/python3.10/dist-packages (from ydata_profiling) (1.9.2)\n",
            "Collecting dacite>=1.8 (from ydata_profiling)\n",
            "  Downloading dacite-1.8.1-py3-none-any.whl (14 kB)\n",
            "Requirement already satisfied: PyWavelets in /usr/local/lib/python3.10/dist-packages (from imagehash==4.3.1->ydata_profiling) (1.4.1)\n",
            "Requirement already satisfied: pillow in /usr/local/lib/python3.10/dist-packages (from imagehash==4.3.1->ydata_profiling) (9.4.0)\n",
            "Requirement already satisfied: attrs>=19.3.0 in /usr/local/lib/python3.10/dist-packages (from visions[type_image_path]==0.7.5->ydata_profiling) (23.1.0)\n",
            "Requirement already satisfied: networkx>=2.4 in /usr/local/lib/python3.10/dist-packages (from visions[type_image_path]==0.7.5->ydata_profiling) (3.1)\n",
            "Collecting tangled-up-in-unicode>=0.0.4 (from visions[type_image_path]==0.7.5->ydata_profiling)\n",
            "  Downloading tangled_up_in_unicode-0.2.0-py3-none-any.whl (4.7 MB)\n",
            "\u001b[2K     \u001b[90m━━━━━━━━━━━━━━━━━━━━━━━━━━━━━━━━━━━━━━━━\u001b[0m \u001b[32m4.7/4.7 MB\u001b[0m \u001b[31m67.3 MB/s\u001b[0m eta \u001b[36m0:00:00\u001b[0m\n",
            "\u001b[?25hRequirement already satisfied: MarkupSafe>=2.0 in /usr/local/lib/python3.10/dist-packages (from jinja2<3.2,>=2.11.1->ydata_profiling) (2.1.3)\n",
            "Requirement already satisfied: contourpy>=1.0.1 in /usr/local/lib/python3.10/dist-packages (from matplotlib<4,>=3.2->ydata_profiling) (1.1.1)\n",
            "Requirement already satisfied: cycler>=0.10 in /usr/local/lib/python3.10/dist-packages (from matplotlib<4,>=3.2->ydata_profiling) (0.12.0)\n",
            "Requirement already satisfied: fonttools>=4.22.0 in /usr/local/lib/python3.10/dist-packages (from matplotlib<4,>=3.2->ydata_profiling) (4.43.0)\n",
            "Requirement already satisfied: kiwisolver>=1.0.1 in /usr/local/lib/python3.10/dist-packages (from matplotlib<4,>=3.2->ydata_profiling) (1.4.5)\n",
            "Requirement already satisfied: packaging>=20.0 in /usr/local/lib/python3.10/dist-packages (from matplotlib<4,>=3.2->ydata_profiling) (23.2)\n",
            "Requirement already satisfied: pyparsing>=2.3.1 in /usr/local/lib/python3.10/dist-packages (from matplotlib<4,>=3.2->ydata_profiling) (3.1.1)\n",
            "Requirement already satisfied: python-dateutil>=2.7 in /usr/local/lib/python3.10/dist-packages (from matplotlib<4,>=3.2->ydata_profiling) (2.8.2)\n",
            "Requirement already satisfied: pytz>=2020.1 in /usr/local/lib/python3.10/dist-packages (from pandas!=1.4.0,<2.1,>1.1->ydata_profiling) (2023.3.post1)\n",
            "Requirement already satisfied: joblib>=0.14.1 in /usr/local/lib/python3.10/dist-packages (from phik<0.13,>=0.11.1->ydata_profiling) (1.3.2)\n",
            "Requirement already satisfied: typing-extensions>=4.2.0 in /usr/local/lib/python3.10/dist-packages (from pydantic<2,>=1.8.1->ydata_profiling) (4.5.0)\n",
            "Requirement already satisfied: charset-normalizer<4,>=2 in /usr/local/lib/python3.10/dist-packages (from requests<3,>=2.24.0->ydata_profiling) (3.3.0)\n",
            "Requirement already satisfied: idna<4,>=2.5 in /usr/local/lib/python3.10/dist-packages (from requests<3,>=2.24.0->ydata_profiling) (3.4)\n",
            "Requirement already satisfied: urllib3<3,>=1.21.1 in /usr/local/lib/python3.10/dist-packages (from requests<3,>=2.24.0->ydata_profiling) (2.0.6)\n",
            "Requirement already satisfied: certifi>=2017.4.17 in /usr/local/lib/python3.10/dist-packages (from requests<3,>=2.24.0->ydata_profiling) (2023.7.22)\n",
            "Requirement already satisfied: patsy>=0.5.2 in /usr/local/lib/python3.10/dist-packages (from statsmodels<1,>=0.13.2->ydata_profiling) (0.5.3)\n",
            "Requirement already satisfied: six in /usr/local/lib/python3.10/dist-packages (from patsy>=0.5.2->statsmodels<1,>=0.13.2->ydata_profiling) (1.16.0)\n",
            "Building wheels for collected packages: htmlmin\n",
            "  Building wheel for htmlmin (setup.py) ... \u001b[?25l\u001b[?25hdone\n",
            "  Created wheel for htmlmin: filename=htmlmin-0.1.12-py3-none-any.whl size=27081 sha256=273352cc91a94c0b23aa6d423ee88a6f28adffc676f7d63f199b224c2a75e6b3\n",
            "  Stored in directory: /root/.cache/pip/wheels/dd/91/29/a79cecb328d01739e64017b6fb9a1ab9d8cb1853098ec5966d\n",
            "Successfully built htmlmin\n",
            "Installing collected packages: htmlmin, typeguard, tangled-up-in-unicode, multimethod, dacite, imagehash, visions, phik, ydata_profiling\n",
            "Successfully installed dacite-1.8.1 htmlmin-0.1.12 imagehash-4.3.1 multimethod-1.10 phik-0.12.3 tangled-up-in-unicode-0.2.0 typeguard-2.13.3 visions-0.7.5 ydata_profiling-4.5.1\n"
          ]
        }
      ],
      "source": [
        "import tensorflow as tf\n",
        "!pip install ydata_profiling\n",
        "import pandas as pd\n",
        "from ydata_profiling import ProfileReport"
      ]
    },
    {
      "cell_type": "code",
      "source": [
        "#Just for reading csv\n",
        "from google.colab import drive\n",
        "\n",
        "# Mount Google Drive\n",
        "drive.mount(\"/content/drive\", force_remount=True)\n",
        "\n",
        "data1 = pd.read_csv('/content/drive/MyDrive/dsc_fc_summed_spectra_2016_v01.csv')\n"
      ],
      "metadata": {
        "colab": {
          "base_uri": "https://localhost:8080/"
        },
        "id": "1jKTBnZBBqJC",
        "outputId": "ab33a713-fa7c-4bce-d92f-ac9b9f0a0006"
      },
      "execution_count": 25,
      "outputs": [
        {
          "output_type": "stream",
          "name": "stdout",
          "text": [
            "Mounted at /content/drive\n"
          ]
        }
      ]
    },
    {
      "cell_type": "code",
      "source": [
        "data.isnull().sum().sum()"
      ],
      "metadata": {
        "colab": {
          "base_uri": "https://localhost:8080/"
        },
        "id": "ewOxFBEAZNAJ",
        "outputId": "8691f221-70f4-43dc-f312-717c3afc8081"
      },
      "execution_count": 5,
      "outputs": [
        {
          "output_type": "execute_result",
          "data": {
            "text/plain": [
              "9789"
            ]
          },
          "metadata": {},
          "execution_count": 5
        }
      ]
    },
    {
      "cell_type": "code",
      "source": [
        "import pandas as pd\n",
        "from sklearn.impute import KNNImputer\n",
        "from sklearn.impute import SimpleImputer\n",
        "\n",
        "from sklearn.impute import KNNImputer, SimpleImputer\n",
        "\n",
        "\n",
        "# Select columns for KNN imputation (excluding the label column)\n",
        "knn_imputation_data = data.iloc[:, 1:]\n",
        "\n",
        "# Create a KNNImputer instance\n",
        "knn_imputer = KNNImputer(n_neighbors=20)\n",
        "\n",
        "# Apply KNN imputation along axis=1\n",
        "imputed_data = knn_imputer.fit_transform(knn_imputation_data.T).T\n",
        "\n",
        "# Display the imputed data\n",
        "print(\"Original Data:\\n\", data.iloc[:,1:])\n",
        "print(\"\\nImputed Data:\\n\", imputed_data)\n",
        "\n",
        "\n",
        "# Convert imputed data to a DataFrame\n",
        "imputed_data_7 = pd.DataFrame(imputed_data)\n",
        "imputed_data_7= imputed_data_7.iloc[:,:]\n",
        "imputed_data_7.isnull().sum().sum()"
      ],
      "metadata": {
        "colab": {
          "base_uri": "https://localhost:8080/"
        },
        "id": "t4N8NFQuiwQ2",
        "outputId": "ba6a9aa2-45be-47a6-9b2d-fe3d9398584c"
      },
      "execution_count": 13,
      "outputs": [
        {
          "output_type": "stream",
          "name": "stdout",
          "text": [
            "Original Data:\n",
            "                      6.83609  -3.37934  -12.9205    0  0.1  0.2  0.3  0.4  \\\n",
            "2016-01-01 00:00:00                                                         \n",
            "2016-01-01 00:01:00  6.76732  -3.30194 -12.99670  0.0  0.0  0.0  0.0  0.0   \n",
            "2016-01-01 00:02:00  6.39107  -2.61173 -13.32710  0.0  0.0  0.0  0.0  0.0   \n",
            "2016-01-01 00:03:00  6.44897  -2.61525 -13.32990  0.0  0.0  0.0  0.0  0.0   \n",
            "2016-01-01 00:04:00  6.58758  -2.73082 -13.23610  0.0  0.0  0.0  0.0  0.0   \n",
            "2016-01-01 00:05:00  6.44875  -2.68868 -13.30760  0.0  0.0  0.0  0.0  0.0   \n",
            "...                      ...       ...       ...  ...  ...  ...  ...  ...   \n",
            "2016-12-31 23:55:00 -5.92351   3.25329  -2.07272  0.0  0.0  0.0  0.0  0.0   \n",
            "2016-12-31 23:56:00 -6.10969   2.72681  -1.95783  0.0  0.0  0.0  0.0  0.0   \n",
            "2016-12-31 23:57:00 -5.78496  -2.02603  -2.64053  0.0  0.0  0.0  0.0  0.0   \n",
            "2016-12-31 23:58:00 -3.60551  -5.31124  -3.16447  0.0  0.0  0.0  0.0  0.0   \n",
            "2016-12-31 23:59:00 -4.61841  -4.52630  -3.05202  0.0  0.0  0.0  0.0  0.0   \n",
            "\n",
            "                     0.5  0.6  ...  0.40  0.41  0.42  0.43  0.44  0.45  0.46  \\\n",
            "2016-01-01 00:00:00            ...                                             \n",
            "2016-01-01 00:01:00  0.0  0.0  ...   0.0   0.0   0.0   0.0   0.0   0.0   0.0   \n",
            "2016-01-01 00:02:00  0.0  0.0  ...   0.0   0.0   0.0   0.0   0.0   0.0   0.0   \n",
            "2016-01-01 00:03:00  0.0  0.0  ...   0.0   0.0   0.0   0.0   0.0   0.0   0.0   \n",
            "2016-01-01 00:04:00  0.0  0.0  ...   0.0   0.0   0.0   0.0   0.0   0.0   0.0   \n",
            "2016-01-01 00:05:00  0.0  0.0  ...   0.0   0.0   0.0   0.0   0.0   0.0   0.0   \n",
            "...                  ...  ...  ...   ...   ...   ...   ...   ...   ...   ...   \n",
            "2016-12-31 23:55:00  0.0  0.0  ...   0.0   0.0   0.0   0.0   0.0   0.0   0.0   \n",
            "2016-12-31 23:56:00  0.0  0.0  ...   0.0   0.0   0.0   0.0   0.0   0.0   0.0   \n",
            "2016-12-31 23:57:00  0.0  0.0  ...   0.0   0.0   0.0   0.0   0.0   0.0   0.0   \n",
            "2016-12-31 23:58:00  0.0  0.0  ...   0.0   0.0   0.0   0.0   0.0   0.0   0.0   \n",
            "2016-12-31 23:59:00  0.0  0.0  ...   0.0   0.0   0.0   0.0   0.0   0.0   0.0   \n",
            "\n",
            "                     0.47  0.48  0.49  \n",
            "2016-01-01 00:00:00                    \n",
            "2016-01-01 00:01:00   0.0   0.0   0.0  \n",
            "2016-01-01 00:02:00   0.0   0.0   0.0  \n",
            "2016-01-01 00:03:00   0.0   0.0   0.0  \n",
            "2016-01-01 00:04:00   0.0   0.0   0.0  \n",
            "2016-01-01 00:05:00   0.0   0.0   0.0  \n",
            "...                   ...   ...   ...  \n",
            "2016-12-31 23:55:00   0.0   0.0   0.0  \n",
            "2016-12-31 23:56:00   0.0   0.0   0.0  \n",
            "2016-12-31 23:57:00   0.0   0.0   0.0  \n",
            "2016-12-31 23:58:00   0.0   0.0   0.0  \n",
            "2016-12-31 23:59:00   0.0   0.0   0.0  \n",
            "\n",
            "[283679 rows x 53 columns]\n",
            "\n",
            "Imputed Data:\n",
            " [[  6.76732  -3.30194 -12.9967  ...   0.        0.        0.     ]\n",
            " [  6.39107  -2.61173 -13.3271  ...   0.        0.        0.     ]\n",
            " [  6.44897  -2.61525 -13.3299  ...   0.        0.        0.     ]\n",
            " ...\n",
            " [ -5.78496  -2.02603  -2.64053 ...   0.        0.        0.     ]\n",
            " [ -3.60551  -5.31124  -3.16447 ...   0.        0.        0.     ]\n",
            " [ -4.61841  -4.5263   -3.05202 ...   0.        0.        0.     ]]\n"
          ]
        },
        {
          "output_type": "execute_result",
          "data": {
            "text/plain": [
              "0"
            ]
          },
          "metadata": {},
          "execution_count": 13
        }
      ]
    },
    {
      "cell_type": "code",
      "source": [
        "data1.iloc[:,0]"
      ],
      "metadata": {
        "colab": {
          "base_uri": "https://localhost:8080/"
        },
        "id": "zXSlneIXlnDT",
        "outputId": "ba07e73d-43d5-45d1-efc0-2cdbfc800a46"
      },
      "execution_count": 33,
      "outputs": [
        {
          "output_type": "execute_result",
          "data": {
            "text/plain": [
              "0         2016-01-01 00:01:00\n",
              "1         2016-01-01 00:02:00\n",
              "2         2016-01-01 00:03:00\n",
              "3         2016-01-01 00:04:00\n",
              "4         2016-01-01 00:05:00\n",
              "                 ...         \n",
              "283674    2016-12-31 23:55:00\n",
              "283675    2016-12-31 23:56:00\n",
              "283676    2016-12-31 23:57:00\n",
              "283677    2016-12-31 23:58:00\n",
              "283678    2016-12-31 23:59:00\n",
              "Name: 2016-01-01 00:00:00, Length: 283679, dtype: object"
            ]
          },
          "metadata": {},
          "execution_count": 33
        }
      ]
    },
    {
      "cell_type": "code",
      "source": [
        "imputed_data_7.shape"
      ],
      "metadata": {
        "colab": {
          "base_uri": "https://localhost:8080/"
        },
        "id": "eY8Biu75tmZC",
        "outputId": "16eb16c5-683c-4491-cb6f-b1ba935f56d3"
      },
      "execution_count": 44,
      "outputs": [
        {
          "output_type": "execute_result",
          "data": {
            "text/plain": [
              "(283679, 53)"
            ]
          },
          "metadata": {},
          "execution_count": 44
        }
      ]
    },
    {
      "cell_type": "code",
      "source": [
        "import pandas as pd\n",
        "\n",
        "data = pd.concat([datetime, imputed_data_7], axis=1)\n",
        "\n",
        "# Convert the timestamp column to datetime format\n",
        "data.iloc[:, 0] = pd.to_datetime(data.iloc[:, 0], format='%Y/%m/%d %H:%M:%S')\n",
        "\n",
        "# Set the timestamp column as the index\n",
        "data.set_index(data.iloc[:, 0], inplace=True)\n",
        "\n",
        "# Create a new DataFrame to store the results\n",
        "data_hourly_mean = pd.DataFrame(index=data.index)\n",
        "\n",
        "# Calculate the mean of minute values within each hour for all columns\n",
        "#for col in data.columns:\n",
        "    # Remove leading/trailing spaces from column names\n",
        "    #cleaned_col = col.strip()\n",
        "\n",
        "    # Group the data by hour and calculate the mean\n",
        "data_hourly_mean = data.groupby(pd.Grouper(freq='3H')).mean()\n",
        "\n",
        "# Reset the index to have a regular DataFrame structure\n",
        "#data_hourly_mean.reset_index(inplace=True)\n",
        "\n",
        "data_hourly_mean.to_csv('data2016_hourly_mean.csv', index=False)\n"
      ],
      "metadata": {
        "colab": {
          "base_uri": "https://localhost:8080/"
        },
        "id": "NH1OebbeqI63",
        "outputId": "c256bbe9-ea7e-4599-fc6f-d5e34ecf4888"
      },
      "execution_count": 40,
      "outputs": [
        {
          "output_type": "stream",
          "name": "stderr",
          "text": [
            "<ipython-input-40-b8c782adbecf>:6: DeprecationWarning: In a future version, `df.iloc[:, i] = newvals` will attempt to set the values inplace instead of always setting a new array. To retain the old behavior, use either `df[df.columns[i]] = newvals` or, if columns are non-unique, `df.isetitem(i, newvals)`\n",
            "  data.iloc[:, 0] = pd.to_datetime(data.iloc[:, 0], format='%Y/%m/%d %H:%M:%S')\n",
            "<ipython-input-40-b8c782adbecf>:20: FutureWarning: The default value of numeric_only in DataFrameGroupBy.mean is deprecated. In a future version, numeric_only will default to False. Either specify numeric_only or select only columns which should be valid for the function.\n",
            "  data_hourly_mean = data.groupby(pd.Grouper(freq='3H')).mean()\n"
          ]
        }
      ]
    },
    {
      "cell_type": "code",
      "source": [
        "import pandas as pd\n",
        "\n",
        "# Set the start and end dates\n",
        "start_date = '2021-01-01'\n",
        "end_date = '2021-12-31'\n",
        "\n",
        "# Generate a datetime array sampled every three hours\n",
        "datetime_array = pd.date_range(start=start_date, end=end_date, freq='3H')\n",
        "datetime=pd.DataFrame(datetime_array)\n",
        "# Display the generated datetime array\n",
        "print(datetime_array)"
      ],
      "metadata": {
        "colab": {
          "base_uri": "https://localhost:8080/"
        },
        "id": "ICjSf-dtnuKd",
        "outputId": "fe49939a-8971-457f-a9e0-ea241acdbed8"
      },
      "execution_count": 80,
      "outputs": [
        {
          "output_type": "stream",
          "name": "stdout",
          "text": [
            "DatetimeIndex(['2021-01-01 00:00:00', '2021-01-01 03:00:00',\n",
            "               '2021-01-01 06:00:00', '2021-01-01 09:00:00',\n",
            "               '2021-01-01 12:00:00', '2021-01-01 15:00:00',\n",
            "               '2021-01-01 18:00:00', '2021-01-01 21:00:00',\n",
            "               '2021-01-02 00:00:00', '2021-01-02 03:00:00',\n",
            "               ...\n",
            "               '2021-12-29 21:00:00', '2021-12-30 00:00:00',\n",
            "               '2021-12-30 03:00:00', '2021-12-30 06:00:00',\n",
            "               '2021-12-30 09:00:00', '2021-12-30 12:00:00',\n",
            "               '2021-12-30 15:00:00', '2021-12-30 18:00:00',\n",
            "               '2021-12-30 21:00:00', '2021-12-31 00:00:00'],\n",
            "              dtype='datetime64[ns]', length=2913, freq='3H')\n"
          ]
        }
      ]
    },
    {
      "cell_type": "code",
      "source": [
        "data_hourly_mean.shape"
      ],
      "metadata": {
        "colab": {
          "base_uri": "https://localhost:8080/"
        },
        "id": "3rTNHueLCpRN",
        "outputId": "15f22f3b-e583-43fc-da9b-e20000c8afe8"
      },
      "execution_count": 41,
      "outputs": [
        {
          "output_type": "execute_result",
          "data": {
            "text/plain": [
              "(2921, 53)"
            ]
          },
          "metadata": {},
          "execution_count": 41
        }
      ]
    },
    {
      "cell_type": "code",
      "source": [
        "data_hourly_mean.isnull().sum().sum()"
      ],
      "metadata": {
        "colab": {
          "base_uri": "https://localhost:8080/"
        },
        "id": "l1_RefoMZaLN",
        "outputId": "35491cd1-77a7-43d6-f2b3-e52ed0b8cb80"
      },
      "execution_count": 42,
      "outputs": [
        {
          "output_type": "execute_result",
          "data": {
            "text/plain": [
              "0"
            ]
          },
          "metadata": {},
          "execution_count": 42
        }
      ]
    },
    {
      "cell_type": "code",
      "source": [
        "data1.shape"
      ],
      "metadata": {
        "colab": {
          "base_uri": "https://localhost:8080/"
        },
        "id": "XZF7dJzupARP",
        "outputId": "31ff0e0d-5bdf-45f3-fc5b-69a9af6d9313"
      },
      "execution_count": 43,
      "outputs": [
        {
          "output_type": "execute_result",
          "data": {
            "text/plain": [
              "(283679, 54)"
            ]
          },
          "metadata": {},
          "execution_count": 43
        }
      ]
    },
    {
      "cell_type": "code",
      "source": [
        "data2 = pd.read_csv('/content/drive/MyDrive/dsc_fc_summed_spectra_2017_v01.csv', \\\n",
        "delimiter = ',', parse_dates=[0], \\\n",
        "infer_datetime_format=True, na_values='0', \\\n",
        "header = None)\n",
        "\n",
        "data2.shape"
      ],
      "metadata": {
        "colab": {
          "base_uri": "https://localhost:8080/"
        },
        "id": "fTJ0-l0fz88N",
        "outputId": "92175d92-5f94-4102-88df-b74963fd3d17"
      },
      "execution_count": 48,
      "outputs": [
        {
          "output_type": "execute_result",
          "data": {
            "text/plain": [
              "(525600, 54)"
            ]
          },
          "metadata": {},
          "execution_count": 48
        }
      ]
    },
    {
      "cell_type": "code",
      "source": [
        "import pandas as pd\n",
        "from sklearn.impute import KNNImputer\n",
        "from sklearn.impute import SimpleImputer\n",
        "\n",
        "from sklearn.impute import KNNImputer, SimpleImputer\n",
        "\n",
        "\n",
        "# Select columns for KNN imputation (excluding the label column)\n",
        "knn_imputation_data = data2.iloc[:, 1:]\n",
        "\n",
        "# Create a KNNImputer instance\n",
        "knn_imputer = KNNImputer(n_neighbors=20)\n",
        "\n",
        "# Apply KNN imputation along axis=1\n",
        "imputed_data = knn_imputer.fit_transform(knn_imputation_data.T).T\n",
        "\n",
        "# Display the imputed data\n",
        "print(\"Original Data:\\n\", data2.iloc[:,1:])\n",
        "print(\"\\nImputed Data:\\n\", imputed_data)\n",
        "\n",
        "\n",
        "# Convert imputed data to a DataFrame\n",
        "imputed_data_8 = pd.DataFrame(imputed_data)\n",
        "imputed_data_8= imputed_data_8.iloc[:,:]\n",
        "imputed_data_8.isnull().sum().sum()"
      ],
      "metadata": {
        "colab": {
          "base_uri": "https://localhost:8080/"
        },
        "id": "olp5FENBwI3a",
        "outputId": "5ad1c4fd-a472-45cd-faee-7158cbfc2013"
      },
      "execution_count": 49,
      "outputs": [
        {
          "output_type": "stream",
          "name": "stdout",
          "text": [
            "Original Data:\n",
            "              1         2        3   4   5   6   7   8   9   10  ...  44  45  \\\n",
            "0      -4.17863 -4.511830 -3.52434 NaN NaN NaN NaN NaN NaN NaN  ... NaN NaN   \n",
            "1      -6.06788 -0.379552 -3.49708 NaN NaN NaN NaN NaN NaN NaN  ... NaN NaN   \n",
            "2      -5.83430 -3.039940 -2.98546 NaN NaN NaN NaN NaN NaN NaN  ... NaN NaN   \n",
            "3      -5.87318 -3.352910 -2.77476 NaN NaN NaN NaN NaN NaN NaN  ... NaN NaN   \n",
            "4      -5.81431 -3.305190 -2.59870 NaN NaN NaN NaN NaN NaN NaN  ... NaN NaN   \n",
            "...         ...       ...      ...  ..  ..  ..  ..  ..  ..  ..  ...  ..  ..   \n",
            "525595  6.07246 -3.402390 -4.20657 NaN NaN NaN NaN NaN NaN NaN  ... NaN NaN   \n",
            "525596  6.94467 -3.434060 -4.33012 NaN NaN NaN NaN NaN NaN NaN  ... NaN NaN   \n",
            "525597  7.04210 -1.602740 -5.85800 NaN NaN NaN NaN NaN NaN NaN  ... NaN NaN   \n",
            "525598  6.74641  0.337871 -6.33095 NaN NaN NaN NaN NaN NaN NaN  ... NaN NaN   \n",
            "525599  5.92092  1.649140 -7.02200 NaN NaN NaN NaN NaN NaN NaN  ... NaN NaN   \n",
            "\n",
            "        46  47  48  49  50  51  52  53  \n",
            "0      NaN NaN NaN NaN NaN NaN NaN NaN  \n",
            "1      NaN NaN NaN NaN NaN NaN NaN NaN  \n",
            "2      NaN NaN NaN NaN NaN NaN NaN NaN  \n",
            "3      NaN NaN NaN NaN NaN NaN NaN NaN  \n",
            "4      NaN NaN NaN NaN NaN NaN NaN NaN  \n",
            "...     ..  ..  ..  ..  ..  ..  ..  ..  \n",
            "525595 NaN NaN NaN NaN NaN NaN NaN NaN  \n",
            "525596 NaN NaN NaN NaN NaN NaN NaN NaN  \n",
            "525597 NaN NaN NaN NaN NaN NaN NaN NaN  \n",
            "525598 NaN NaN NaN NaN NaN NaN NaN NaN  \n",
            "525599 NaN NaN NaN NaN NaN NaN NaN NaN  \n",
            "\n",
            "[525600 rows x 53 columns]\n",
            "\n",
            "Imputed Data:\n",
            " [[-4.17863000e+00 -4.51183000e+00 -3.52434000e+00 ...  4.77840533e+02\n",
            "   4.77840533e+02  4.77840533e+02]\n",
            " [-6.06788000e+00 -3.79552000e-01 -3.49708000e+00 ...  4.73320196e+02\n",
            "   4.73320196e+02  4.73320196e+02]\n",
            " [-5.83430000e+00 -3.03994000e+00 -2.98546000e+00 ...  4.74673477e+02\n",
            "   4.74673477e+02  4.74673477e+02]\n",
            " ...\n",
            " [ 7.04210000e+00 -1.60274000e+00 -5.85800000e+00 ...  4.86078700e+02\n",
            "   4.86078700e+02  4.86078700e+02]\n",
            " [ 6.74641000e+00  3.37871000e-01 -6.33095000e+00 ...  4.87000100e+02\n",
            "   4.87000100e+02  4.87000100e+02]\n",
            " [ 5.92092000e+00  1.64914000e+00 -7.02200000e+00 ...  4.85833850e+02\n",
            "   4.85833850e+02  4.85833850e+02]]\n"
          ]
        },
        {
          "output_type": "execute_result",
          "data": {
            "text/plain": [
              "0"
            ]
          },
          "metadata": {},
          "execution_count": 49
        }
      ]
    },
    {
      "cell_type": "code",
      "source": [
        "imputed_data_8.shape"
      ],
      "metadata": {
        "colab": {
          "base_uri": "https://localhost:8080/"
        },
        "id": "XlSee0KGwUjJ",
        "outputId": "fed88c8e-d735-41f6-e660-55e37b9fc0e1"
      },
      "execution_count": 50,
      "outputs": [
        {
          "output_type": "execute_result",
          "data": {
            "text/plain": [
              "(524530, 53)"
            ]
          },
          "metadata": {},
          "execution_count": 50
        }
      ]
    },
    {
      "cell_type": "code",
      "source": [
        "import pandas as pd\n",
        "\n",
        "# Assuming data8 is your DataFrame\n",
        "data2 = pd.concat([datetime, imputed_data_8], axis=1)\n",
        "\n",
        "# Convert the timestamp column to datetime format\n",
        "data2.iloc[:, 0] = pd.to_datetime(data2.iloc[:, 0], format='%m/%d/%Y %H:%M:%S')\n",
        "\n",
        "# Set the timestamp column as the index\n",
        "data2.set_index(data2.iloc[:, 0], inplace=True)\n",
        "\n",
        "# Create a new DataFrame to store the results\n",
        "data2_hourly_mean = pd.DataFrame(index=data2.index)\n",
        "\n",
        "# Calculate the mean of minute values within each hour for all columns\n",
        "for col in data2.columns:\n",
        "    # Remove leading/trailing spaces from column names\n",
        "    #cleaned_col = col.strip()\n",
        "\n",
        "    # Group the data by hour and calculate the mean\n",
        "    data2_hourly_mean = data2.groupby(pd.Grouper(freq='3H')).mean()\n",
        "\n",
        "# Reset the index to have a regular DataFrame structure\n",
        "#data2_hourly_mean.reset_index(inplace=True)\n",
        "\n",
        "data2_hourly_mean.to_csv('data2017_hourly_mean.csv', index=False)\n"
      ],
      "metadata": {
        "colab": {
          "base_uri": "https://localhost:8080/"
        },
        "id": "hC8gm-dbp3iD",
        "outputId": "36b0185d-ad6b-404a-c9d3-e9b7657dde49"
      },
      "execution_count": 53,
      "outputs": [
        {
          "output_type": "stream",
          "name": "stderr",
          "text": [
            "<ipython-input-53-3a459c026ae3>:7: DeprecationWarning: In a future version, `df.iloc[:, i] = newvals` will attempt to set the values inplace instead of always setting a new array. To retain the old behavior, use either `df[df.columns[i]] = newvals` or, if columns are non-unique, `df.isetitem(i, newvals)`\n",
            "  data2.iloc[:, 0] = pd.to_datetime(data2.iloc[:, 0], format='%m/%d/%Y %H:%M:%S')\n",
            "<ipython-input-53-3a459c026ae3>:21: FutureWarning: The default value of numeric_only in DataFrameGroupBy.mean is deprecated. In a future version, numeric_only will default to False. Either specify numeric_only or select only columns which should be valid for the function.\n",
            "  data2_hourly_mean = data2.groupby(pd.Grouper(freq='3H')).mean()\n"
          ]
        }
      ]
    },
    {
      "cell_type": "code",
      "source": [
        "data2_hourly_mean.shape"
      ],
      "metadata": {
        "colab": {
          "base_uri": "https://localhost:8080/"
        },
        "id": "-jrlAas_78a0",
        "outputId": "286af844-5d6e-41a1-b19e-78aa7488540c"
      },
      "execution_count": 54,
      "outputs": [
        {
          "output_type": "execute_result",
          "data": {
            "text/plain": [
              "(2913, 53)"
            ]
          },
          "metadata": {},
          "execution_count": 54
        }
      ]
    },
    {
      "cell_type": "code",
      "source": [
        "data2_hourly_mean.isnull().sum().sum()"
      ],
      "metadata": {
        "colab": {
          "base_uri": "https://localhost:8080/"
        },
        "id": "0hq4UA758jpZ",
        "outputId": "a798c503-fdb4-4cba-8de9-ad1d1cbd1c9b"
      },
      "execution_count": 56,
      "outputs": [
        {
          "output_type": "execute_result",
          "data": {
            "text/plain": [
              "0"
            ]
          },
          "metadata": {},
          "execution_count": 56
        }
      ]
    },
    {
      "cell_type": "code",
      "source": [
        "data3 = pd.read_csv('/content/drive/MyDrive/dsc_fc_summed_spectra_2018_v01.csv', \\\n",
        "delimiter = ',', parse_dates=[0], \\\n",
        "infer_datetime_format=True, na_values='0', \\\n",
        "header = None)\n",
        "\n",
        "data3.shape"
      ],
      "metadata": {
        "colab": {
          "base_uri": "https://localhost:8080/"
        },
        "id": "boBXb4qC71SE",
        "outputId": "84913581-b4eb-4bbd-e22d-fa9f3435ba0e"
      },
      "execution_count": 55,
      "outputs": [
        {
          "output_type": "execute_result",
          "data": {
            "text/plain": [
              "(537120, 54)"
            ]
          },
          "metadata": {},
          "execution_count": 55
        }
      ]
    },
    {
      "cell_type": "code",
      "source": [
        "import pandas as pd\n",
        "from sklearn.impute import KNNImputer\n",
        "from sklearn.impute import SimpleImputer\n",
        "\n",
        "from sklearn.impute import KNNImputer, SimpleImputer\n",
        "\n",
        "\n",
        "# Select columns for KNN imputation (excluding the label column)\n",
        "knn_imputation_data = data3.iloc[:, 1:]\n",
        "\n",
        "# Create a KNNImputer instance\n",
        "knn_imputer = KNNImputer(n_neighbors=20)\n",
        "\n",
        "# Apply KNN imputation along axis=1\n",
        "imputed_data = knn_imputer.fit_transform(knn_imputation_data.T).T\n",
        "\n",
        "# Display the imputed data\n",
        "print(\"Original Data:\\n\", data3.iloc[:,1:])\n",
        "print(\"\\nImputed Data:\\n\", imputed_data)\n",
        "\n",
        "\n",
        "# Convert imputed data to a DataFrame\n",
        "imputed_data_9 = pd.DataFrame(imputed_data)\n",
        "imputed_data_9= imputed_data_9.iloc[:,:]\n",
        "imputed_data_9.isnull().sum().sum()"
      ],
      "metadata": {
        "colab": {
          "base_uri": "https://localhost:8080/"
        },
        "id": "mqtXno_N86lL",
        "outputId": "921fc553-5877-4889-ade6-306c315021fc"
      },
      "execution_count": 58,
      "outputs": [
        {
          "output_type": "stream",
          "name": "stdout",
          "text": [
            "Original Data:\n",
            "                            1         2         3   4   5   6   7   8   9   10  \\\n",
            "0                                                                               \n",
            "2018-01-01 00:00:00  6.548390  1.071280 -6.420980 NaN NaN NaN NaN NaN NaN NaN   \n",
            "2018-01-01 00:01:00  7.875000 -0.698307 -5.394140 NaN NaN NaN NaN NaN NaN NaN   \n",
            "2018-01-01 00:02:00  8.273140 -0.630733 -5.053810 NaN NaN NaN NaN NaN NaN NaN   \n",
            "2018-01-01 00:03:00  8.439380 -0.189856 -5.177480 NaN NaN NaN NaN NaN NaN NaN   \n",
            "2018-01-01 00:04:00  8.737710  0.336682 -5.592300 NaN NaN NaN NaN NaN NaN NaN   \n",
            "...                       ...       ...       ...  ..  ..  ..  ..  ..  ..  ..   \n",
            "2018-12-31 23:55:00 -2.227050  4.000090 -0.153605 NaN NaN NaN NaN NaN NaN NaN   \n",
            "2018-12-31 23:56:00 -0.694564  3.988830 -1.281080 NaN NaN NaN NaN NaN NaN NaN   \n",
            "2018-12-31 23:57:00  0.200836  4.031420 -2.016880 NaN NaN NaN NaN NaN NaN NaN   \n",
            "2018-12-31 23:58:00  0.297131  4.329920 -0.997825 NaN NaN NaN NaN NaN NaN NaN   \n",
            "2018-12-31 23:59:00  0.413938  4.163800 -1.409100 NaN NaN NaN NaN NaN NaN NaN   \n",
            "\n",
            "                     ...  44  45  46  47  48  49  50  51  52  53  \n",
            "0                    ...                                          \n",
            "2018-01-01 00:00:00  ... NaN NaN NaN NaN NaN NaN NaN NaN NaN NaN  \n",
            "2018-01-01 00:01:00  ... NaN NaN NaN NaN NaN NaN NaN NaN NaN NaN  \n",
            "2018-01-01 00:02:00  ... NaN NaN NaN NaN NaN NaN NaN NaN NaN NaN  \n",
            "2018-01-01 00:03:00  ... NaN NaN NaN NaN NaN NaN NaN NaN NaN NaN  \n",
            "2018-01-01 00:04:00  ... NaN NaN NaN NaN NaN NaN NaN NaN NaN NaN  \n",
            "...                  ...  ..  ..  ..  ..  ..  ..  ..  ..  ..  ..  \n",
            "2018-12-31 23:55:00  ... NaN NaN NaN NaN NaN NaN NaN NaN NaN NaN  \n",
            "2018-12-31 23:56:00  ... NaN NaN NaN NaN NaN NaN NaN NaN NaN NaN  \n",
            "2018-12-31 23:57:00  ... NaN NaN NaN NaN NaN NaN NaN NaN NaN NaN  \n",
            "2018-12-31 23:58:00  ... NaN NaN NaN NaN NaN NaN NaN NaN NaN NaN  \n",
            "2018-12-31 23:59:00  ... NaN NaN NaN NaN NaN NaN NaN NaN NaN NaN  \n",
            "\n",
            "[537120 rows x 53 columns]\n",
            "\n",
            "Imputed Data:\n",
            " [[ 6.54839000e+00  1.07128000e+00 -6.42098000e+00 ...  4.89032000e+02\n",
            "   4.89032000e+02  4.89032000e+02]\n",
            " [ 7.87500000e+00 -6.98307000e-01 -5.39414000e+00 ...  4.89513750e+02\n",
            "   4.89513750e+02  4.89513750e+02]\n",
            " [ 8.27314000e+00 -6.30733000e-01 -5.05381000e+00 ...  4.80625757e+02\n",
            "   4.80625757e+02  4.80625757e+02]\n",
            " ...\n",
            " [ 2.00836000e-01  4.03142000e+00 -2.01688000e+00 ...  7.38458667e-01\n",
            "   7.38458667e-01  7.38458667e-01]\n",
            " [ 2.97131000e-01  4.32992000e+00 -9.97825000e-01 ...  1.20974200e+00\n",
            "   1.20974200e+00  1.20974200e+00]\n",
            " [ 4.13938000e-01  4.16380000e+00 -1.40910000e+00 ...  1.05621267e+00\n",
            "   1.05621267e+00  1.05621267e+00]]\n"
          ]
        },
        {
          "output_type": "execute_result",
          "data": {
            "text/plain": [
              "0"
            ]
          },
          "metadata": {},
          "execution_count": 58
        }
      ]
    },
    {
      "cell_type": "code",
      "source": [
        "import pandas as pd\n",
        "\n",
        "# Assuming data8 is your DataFrame\n",
        "data3 = pd.concat([datetime, imputed_data_9], axis=1)\n",
        "\n",
        "# Convert the timestamp column to datetime format\n",
        "data3.iloc[:, 0] = pd.to_datetime(data3.iloc[:, 0], format='%m/%d/%Y %H:%M:%S')\n",
        "\n",
        "# Set the timestamp column as the index\n",
        "data3.set_index(data3.iloc[:, 0], inplace=True)\n",
        "\n",
        "# Create a new DataFrame to store the results\n",
        "data3_hourly_mean = pd.DataFrame(index=data3.index)\n",
        "\n",
        "# Calculate the mean of minute values within each hour for all columns\n",
        "for col in data3.columns:\n",
        "    # Remove leading/trailing spaces from column names\n",
        "    #cleaned_col = col.strip()\n",
        "\n",
        "    # Group the data by hour and calculate the mean\n",
        "    data3_hourly_mean = data3.groupby(pd.Grouper(freq='3H')).mean()\n",
        "\n",
        "# Reset the index to have a regular DataFrame structure\n",
        "\n",
        "\n",
        "data3_hourly_mean.to_csv('data2018_hourly_mean.csv', index=False)\n"
      ],
      "metadata": {
        "colab": {
          "base_uri": "https://localhost:8080/"
        },
        "id": "ujsUHtEtpjir",
        "outputId": "eefdfbad-38ea-41d3-9f70-14ce8032b646"
      },
      "execution_count": 61,
      "outputs": [
        {
          "output_type": "stream",
          "name": "stderr",
          "text": [
            "<ipython-input-61-b949a0f59e29>:7: DeprecationWarning: In a future version, `df.iloc[:, i] = newvals` will attempt to set the values inplace instead of always setting a new array. To retain the old behavior, use either `df[df.columns[i]] = newvals` or, if columns are non-unique, `df.isetitem(i, newvals)`\n",
            "  data3.iloc[:, 0] = pd.to_datetime(data3.iloc[:, 0], format='%m/%d/%Y %H:%M:%S')\n",
            "<ipython-input-61-b949a0f59e29>:21: FutureWarning: The default value of numeric_only in DataFrameGroupBy.mean is deprecated. In a future version, numeric_only will default to False. Either specify numeric_only or select only columns which should be valid for the function.\n",
            "  data3_hourly_mean = data3.groupby(pd.Grouper(freq='3H')).mean()\n"
          ]
        }
      ]
    },
    {
      "cell_type": "code",
      "source": [
        "data3_hourly_mean.shape"
      ],
      "metadata": {
        "colab": {
          "base_uri": "https://localhost:8080/"
        },
        "id": "nzsLwocA_RLR",
        "outputId": "7ebb2b99-ec36-4172-af22-44123faf133d"
      },
      "execution_count": 62,
      "outputs": [
        {
          "output_type": "execute_result",
          "data": {
            "text/plain": [
              "(2913, 53)"
            ]
          },
          "metadata": {},
          "execution_count": 62
        }
      ]
    },
    {
      "cell_type": "code",
      "source": [
        "data3_hourly_mean.isnull().sum().sum()"
      ],
      "metadata": {
        "colab": {
          "base_uri": "https://localhost:8080/"
        },
        "id": "PLPzM7uW_x7v",
        "outputId": "900658e7-4e7d-4b8f-9cd3-1068fe48dfee"
      },
      "execution_count": 63,
      "outputs": [
        {
          "output_type": "execute_result",
          "data": {
            "text/plain": [
              "0"
            ]
          },
          "metadata": {},
          "execution_count": 63
        }
      ]
    },
    {
      "cell_type": "code",
      "source": [
        "data4 = pd.read_csv('/content/drive/MyDrive/dsc_fc_summed_spectra_2019_v01.csv', \\\n",
        "delimiter = ',', parse_dates=[0], \\\n",
        "infer_datetime_format=True, na_values='0', \\\n",
        "header = None)\n",
        "\n",
        "data4.shape"
      ],
      "metadata": {
        "colab": {
          "base_uri": "https://localhost:8080/"
        },
        "id": "fF2DwbIg7-95",
        "outputId": "b5209039-6b68-4f29-b950-481428cb5182"
      },
      "execution_count": 64,
      "outputs": [
        {
          "output_type": "execute_result",
          "data": {
            "text/plain": [
              "(256320, 54)"
            ]
          },
          "metadata": {},
          "execution_count": 64
        }
      ]
    },
    {
      "cell_type": "code",
      "source": [
        "import pandas as pd\n",
        "from sklearn.impute import KNNImputer\n",
        "from sklearn.impute import SimpleImputer\n",
        "\n",
        "from sklearn.impute import KNNImputer, SimpleImputer\n",
        "\n",
        "\n",
        "# Select columns for KNN imputation (excluding the label column)\n",
        "knn_imputation_data = data4.iloc[:, 1:]\n",
        "\n",
        "# Create a KNNImputer instance\n",
        "knn_imputer = KNNImputer(n_neighbors=20)\n",
        "\n",
        "# Apply KNN imputation along axis=1\n",
        "imputed_data = knn_imputer.fit_transform(knn_imputation_data.T).T\n",
        "\n",
        "# Display the imputed data\n",
        "print(\"Original Data:\\n\", data4.iloc[:,1:])\n",
        "print(\"\\nImputed Data:\\n\", imputed_data)\n",
        "\n",
        "\n",
        "# Convert imputed data to a DataFrame\n",
        "imputed_data_10 = pd.DataFrame(imputed_data)\n",
        "imputed_data_10= imputed_data_10.iloc[:,:]\n",
        "imputed_data_10.isnull().sum().sum()"
      ],
      "metadata": {
        "colab": {
          "base_uri": "https://localhost:8080/"
        },
        "id": "k5bb9yXXAgpM",
        "outputId": "6adc765e-cd8a-4a4f-94ee-7d3d2a386f5c"
      },
      "execution_count": 66,
      "outputs": [
        {
          "output_type": "stream",
          "name": "stdout",
          "text": [
            "Original Data:\n",
            "                            1        2        3   4   5   6   7   8   9   10  \\\n",
            "0                                                                             \n",
            "2019-01-01 00:00:00  0.947127  3.61457 -1.83669 NaN NaN NaN NaN NaN NaN NaN   \n",
            "2019-01-01 00:01:00  1.016790  3.49577 -1.71416 NaN NaN NaN NaN NaN NaN NaN   \n",
            "2019-01-01 00:02:00  0.709152  3.36310 -1.81351 NaN NaN NaN NaN NaN NaN NaN   \n",
            "2019-01-01 00:03:00  1.193480  3.40585 -1.80624 NaN NaN NaN NaN NaN NaN NaN   \n",
            "2019-01-01 00:04:00  1.485320  3.08743 -1.99900 NaN NaN NaN NaN NaN NaN NaN   \n",
            "...                       ...      ...      ...  ..  ..  ..  ..  ..  ..  ..   \n",
            "2019-06-27 23:55:00       NaN      NaN      NaN NaN NaN NaN NaN NaN NaN NaN   \n",
            "2019-06-27 23:56:00       NaN      NaN      NaN NaN NaN NaN NaN NaN NaN NaN   \n",
            "2019-06-27 23:57:00       NaN      NaN      NaN NaN NaN NaN NaN NaN NaN NaN   \n",
            "2019-06-27 23:58:00       NaN      NaN      NaN NaN NaN NaN NaN NaN NaN NaN   \n",
            "2019-06-27 23:59:00       NaN      NaN      NaN NaN NaN NaN NaN NaN NaN NaN   \n",
            "\n",
            "                     ...  44  45  46  47  48  49  50  51  52  53  \n",
            "0                    ...                                          \n",
            "2019-01-01 00:00:00  ... NaN NaN NaN NaN NaN NaN NaN NaN NaN NaN  \n",
            "2019-01-01 00:01:00  ... NaN NaN NaN NaN NaN NaN NaN NaN NaN NaN  \n",
            "2019-01-01 00:02:00  ... NaN NaN NaN NaN NaN NaN NaN NaN NaN NaN  \n",
            "2019-01-01 00:03:00  ... NaN NaN NaN NaN NaN NaN NaN NaN NaN NaN  \n",
            "2019-01-01 00:04:00  ... NaN NaN NaN NaN NaN NaN NaN NaN NaN NaN  \n",
            "...                  ...  ..  ..  ..  ..  ..  ..  ..  ..  ..  ..  \n",
            "2019-06-27 23:55:00  ... NaN NaN NaN NaN NaN NaN NaN NaN NaN NaN  \n",
            "2019-06-27 23:56:00  ... NaN NaN NaN NaN NaN NaN NaN NaN NaN NaN  \n",
            "2019-06-27 23:57:00  ... NaN NaN NaN NaN NaN NaN NaN NaN NaN NaN  \n",
            "2019-06-27 23:58:00  ... NaN NaN NaN NaN NaN NaN NaN NaN NaN NaN  \n",
            "2019-06-27 23:59:00  ... NaN NaN NaN NaN NaN NaN NaN NaN NaN NaN  \n",
            "\n",
            "[256320 rows x 53 columns]\n",
            "\n",
            "Imputed Data:\n",
            " [[ 0.947127    3.61457    -1.83669    ...  0.90833567  0.90833567\n",
            "   0.90833567]\n",
            " [ 1.01679     3.49577    -1.71416    ...  0.9328      0.9328\n",
            "   0.9328    ]\n",
            " [ 0.709152    3.3631     -1.81351    ...  0.752914    0.752914\n",
            "   0.752914  ]\n",
            " ...\n",
            " [ 1.69272    -0.686056   -2.41839    ... -0.47057533 -0.47057533\n",
            "  -0.47057533]\n",
            " [ 1.50476    -0.802068   -2.44256    ... -0.579956   -0.579956\n",
            "  -0.579956  ]\n",
            " [ 1.41082    -0.902346   -2.44266    ... -0.64472867 -0.64472867\n",
            "  -0.64472867]]\n"
          ]
        },
        {
          "output_type": "execute_result",
          "data": {
            "text/plain": [
              "0"
            ]
          },
          "metadata": {},
          "execution_count": 66
        }
      ]
    },
    {
      "cell_type": "code",
      "source": [
        "import pandas as pd\n",
        "\n",
        "# Assuming data8 is your DataFrame\n",
        "data4 = pd.concat([datetime, imputed_data_10], axis=1)\n",
        "# Convert the timestamp column to datetime format\n",
        "data4.iloc[:, 0] = pd.to_datetime(data4.iloc[:, 0], format='%m/%d/%Y %H:%M:%S')\n",
        "\n",
        "# Set the timestamp column as the index\n",
        "data4.set_index(data4.iloc[:, 0], inplace=True)\n",
        "\n",
        "# Create a new DataFrame to store the results\n",
        "data4_hourly_mean = pd.DataFrame(index=data4.index)\n",
        "\n",
        "# Calculate the mean of minute values within each hour for all columns\n",
        "for col in data4.columns:\n",
        "    # Remove leading/trailing spaces from column names\n",
        "    #cleaned_col = col.strip()\n",
        "\n",
        "    # Group the data by hour and calculate the mean\n",
        "    data4_hourly_mean = data4.groupby(pd.Grouper(freq='3H')).mean()\n",
        "\n",
        "# Reset the index to have a regular DataFrame structure\n",
        "#data4_hourly_mean.reset_index(inplace=True)\n",
        "\n",
        "data4_hourly_mean.to_csv('data2019_hourly_mean.csv', index=False)\n"
      ],
      "metadata": {
        "colab": {
          "base_uri": "https://localhost:8080/"
        },
        "id": "sBeZMYVmpSQV",
        "outputId": "ed52bcc4-ee59-498e-b112-af0d193c20b7"
      },
      "execution_count": 69,
      "outputs": [
        {
          "output_type": "stream",
          "name": "stderr",
          "text": [
            "<ipython-input-69-96b0a8f7bb83>:6: DeprecationWarning: In a future version, `df.iloc[:, i] = newvals` will attempt to set the values inplace instead of always setting a new array. To retain the old behavior, use either `df[df.columns[i]] = newvals` or, if columns are non-unique, `df.isetitem(i, newvals)`\n",
            "  data4.iloc[:, 0] = pd.to_datetime(data4.iloc[:, 0], format='%m/%d/%Y %H:%M:%S')\n",
            "<ipython-input-69-96b0a8f7bb83>:20: FutureWarning: The default value of numeric_only in DataFrameGroupBy.mean is deprecated. In a future version, numeric_only will default to False. Either specify numeric_only or select only columns which should be valid for the function.\n",
            "  data4_hourly_mean = data4.groupby(pd.Grouper(freq='3H')).mean()\n"
          ]
        }
      ]
    },
    {
      "cell_type": "code",
      "source": [
        "data4_hourly_mean.shape"
      ],
      "metadata": {
        "colab": {
          "base_uri": "https://localhost:8080/"
        },
        "id": "neeS0PAsBP3z",
        "outputId": "404e50cd-6720-4ca2-ea31-898836e970c1"
      },
      "execution_count": 70,
      "outputs": [
        {
          "output_type": "execute_result",
          "data": {
            "text/plain": [
              "(2913, 53)"
            ]
          },
          "metadata": {},
          "execution_count": 70
        }
      ]
    },
    {
      "cell_type": "code",
      "source": [
        "data4_hourly_mean.isnull().sum().sum()"
      ],
      "metadata": {
        "colab": {
          "base_uri": "https://localhost:8080/"
        },
        "id": "7FuLjgW-BUXj",
        "outputId": "4d9f64fe-ef60-4d48-e037-f47a5162155a"
      },
      "execution_count": 71,
      "outputs": [
        {
          "output_type": "execute_result",
          "data": {
            "text/plain": [
              "0"
            ]
          },
          "metadata": {},
          "execution_count": 71
        }
      ]
    },
    {
      "cell_type": "code",
      "source": [
        "data5 = pd.read_csv('/content/drive/MyDrive/dsc_fc_summed_spectra_2020_v01.csv', \\\n",
        "delimiter = ',', parse_dates=[0], \\\n",
        "infer_datetime_format=True, na_values='0', \\\n",
        "header = None)\n",
        "\n",
        "data5.shape"
      ],
      "metadata": {
        "colab": {
          "base_uri": "https://localhost:8080/"
        },
        "id": "_tIr5L_W8ANp",
        "outputId": "b9ed2b1f-8a55-4d9f-e1c3-89e138598749"
      },
      "execution_count": 72,
      "outputs": [
        {
          "output_type": "execute_result",
          "data": {
            "text/plain": [
              "(447840, 54)"
            ]
          },
          "metadata": {},
          "execution_count": 72
        }
      ]
    },
    {
      "cell_type": "code",
      "source": [
        "import pandas as pd\n",
        "from sklearn.impute import KNNImputer\n",
        "from sklearn.impute import SimpleImputer\n",
        "\n",
        "from sklearn.impute import KNNImputer, SimpleImputer\n",
        "\n",
        "\n",
        "# Select columns for KNN imputation (excluding the label column)\n",
        "knn_imputation_data = data5.iloc[:, 1:]\n",
        "\n",
        "# Create a KNNImputer instance\n",
        "knn_imputer = KNNImputer(n_neighbors=20)\n",
        "\n",
        "# Apply KNN imputation along axis=1\n",
        "imputed_data = knn_imputer.fit_transform(knn_imputation_data.T).T\n",
        "\n",
        "# Display the imputed data\n",
        "print(\"Original Data:\\n\", data5.iloc[:,1:])\n",
        "print(\"\\nImputed Data:\\n\", imputed_data)\n",
        "\n",
        "\n",
        "# Convert imputed data to a DataFrame\n",
        "imputed_data_11 = pd.DataFrame(imputed_data)\n",
        "imputed_data_11= imputed_data_11.iloc[:,:]\n",
        "imputed_data_11.isnull().sum().sum()"
      ],
      "metadata": {
        "colab": {
          "base_uri": "https://localhost:8080/"
        },
        "id": "_EkIzowtBeY0",
        "outputId": "a34c717e-6697-47ca-81a8-d0e46d6601a0"
      },
      "execution_count": 73,
      "outputs": [
        {
          "output_type": "stream",
          "name": "stdout",
          "text": [
            "Original Data:\n",
            "               1         2         3        4         5        6        7   \\\n",
            "0       4.041580 -0.337277  0.278823      NaN       NaN      NaN      NaN   \n",
            "1       4.021790 -0.469653  0.141173      NaN       NaN      NaN      NaN   \n",
            "2       3.989370 -0.655307  0.151470      NaN       NaN      NaN      NaN   \n",
            "3       3.893450 -0.966260 -0.149979      NaN       NaN      NaN      NaN   \n",
            "4       3.837420 -0.969013 -0.514656      NaN       NaN      NaN      NaN   \n",
            "...          ...       ...       ...      ...       ...      ...      ...   \n",
            "447835 -0.685208 -2.318890  1.411140  37.2868  0.231726  43.5532  40.0783   \n",
            "447836 -0.863922 -2.387160  1.470250  35.8015  0.231726  43.5366  40.9354   \n",
            "447837 -1.235620 -2.459980  1.163510  35.9466  0.231726  43.2321  40.9430   \n",
            "447838 -1.362460 -2.435990  1.104120  36.6833  0.231726  43.3391  40.7049   \n",
            "447839 -1.036420 -1.483420  2.049800  36.1165  0.231726  42.4431  39.7559   \n",
            "\n",
            "             8        9        10  ...  44  45  46  47  48  49  50  51  52  53  \n",
            "0           NaN      NaN      NaN  ... NaN NaN NaN NaN NaN NaN NaN NaN NaN NaN  \n",
            "1           NaN      NaN      NaN  ... NaN NaN NaN NaN NaN NaN NaN NaN NaN NaN  \n",
            "2           NaN      NaN      NaN  ... NaN NaN NaN NaN NaN NaN NaN NaN NaN NaN  \n",
            "3           NaN      NaN      NaN  ... NaN NaN NaN NaN NaN NaN NaN NaN NaN NaN  \n",
            "4           NaN      NaN      NaN  ... NaN NaN NaN NaN NaN NaN NaN NaN NaN NaN  \n",
            "...         ...      ...      ...  ...  ..  ..  ..  ..  ..  ..  ..  ..  ..  ..  \n",
            "447835  55.8404  52.0473  85.8030  ... NaN NaN NaN NaN NaN NaN NaN NaN NaN NaN  \n",
            "447836  55.3112  51.1699  80.2718  ... NaN NaN NaN NaN NaN NaN NaN NaN NaN NaN  \n",
            "447837  55.2340  51.2111  80.5526  ... NaN NaN NaN NaN NaN NaN NaN NaN NaN NaN  \n",
            "447838  55.6326  51.7151  82.4217  ... NaN NaN NaN NaN NaN NaN NaN NaN NaN NaN  \n",
            "447839  55.4625  51.5756  81.7779  ... NaN NaN NaN NaN NaN NaN NaN NaN NaN NaN  \n",
            "\n",
            "[447840 rows x 53 columns]\n",
            "\n",
            "Imputed Data:\n",
            " [[ 4.04158000e+00 -3.37277000e-01  2.78823000e-01 ...  1.32770867e+00\n",
            "   1.32770867e+00  1.32770867e+00]\n",
            " [ 4.02179000e+00 -4.69653000e-01  1.41173000e-01 ...  1.23110333e+00\n",
            "   1.23110333e+00  1.23110333e+00]\n",
            " [ 3.98937000e+00 -6.55307000e-01  1.51470000e-01 ...  1.16184433e+00\n",
            "   1.16184433e+00  1.16184433e+00]\n",
            " ...\n",
            " [-1.23562000e+00 -2.45998000e+00  1.16351000e+00 ...  3.07258905e+02\n",
            "   3.07258905e+02  3.07258905e+02]\n",
            " [-1.36246000e+00 -2.43599000e+00  1.10412000e+00 ...  3.07363290e+02\n",
            "   3.07363290e+02  3.07363290e+02]\n",
            " [-1.03642000e+00 -1.48342000e+00  2.04980000e+00 ...  3.06415770e+02\n",
            "   3.06415770e+02  3.06415770e+02]]\n"
          ]
        },
        {
          "output_type": "execute_result",
          "data": {
            "text/plain": [
              "0"
            ]
          },
          "metadata": {},
          "execution_count": 73
        }
      ]
    },
    {
      "cell_type": "code",
      "source": [
        "import pandas as pd\n",
        "\n",
        "# Assuming data8 is your DataFrame\n",
        "data5 = pd.concat([datetime, imputed_data_11], axis=1)\n",
        "\n",
        "# Convert the timestamp column to datetime format\n",
        "data5.iloc[:, 0] = pd.to_datetime(data5.iloc[:, 0], format='%m/%d/%Y %H:%M:%S')\n",
        "\n",
        "# Set the timestamp column as the index\n",
        "data5.set_index(data5.iloc[:, 0], inplace=True)\n",
        "\n",
        "# Create a new DataFrame to store the results\n",
        "data5_hourly_mean = pd.DataFrame(index=data5.index)\n",
        "\n",
        "# Calculate the mean of minute values within each hour for all columns\n",
        "for col in data5.columns:\n",
        "    # Remove leading/trailing spaces from column names\n",
        "    #cleaned_col = col.strip()\n",
        "\n",
        "    # Group the data by hour and calculate the mean\n",
        "    data5_hourly_mean = data5.groupby(pd.Grouper(freq='3H')).mean()\n",
        "\n",
        "# Reset the index to have a regular DataFrame structure\n",
        "#data5_hourly_mean.reset_index(inplace=True)\n",
        "\n",
        "data5_hourly_mean.to_csv('data2020_hourly_mean.csv', index=False)\n"
      ],
      "metadata": {
        "colab": {
          "base_uri": "https://localhost:8080/"
        },
        "id": "rGOnG8oTn4ly",
        "outputId": "a73a72e4-c084-4f58-8892-92c5d2490608"
      },
      "execution_count": 75,
      "outputs": [
        {
          "output_type": "stream",
          "name": "stderr",
          "text": [
            "<ipython-input-75-da0474c57959>:7: DeprecationWarning: In a future version, `df.iloc[:, i] = newvals` will attempt to set the values inplace instead of always setting a new array. To retain the old behavior, use either `df[df.columns[i]] = newvals` or, if columns are non-unique, `df.isetitem(i, newvals)`\n",
            "  data5.iloc[:, 0] = pd.to_datetime(data5.iloc[:, 0], format='%m/%d/%Y %H:%M:%S')\n",
            "<ipython-input-75-da0474c57959>:21: FutureWarning: The default value of numeric_only in DataFrameGroupBy.mean is deprecated. In a future version, numeric_only will default to False. Either specify numeric_only or select only columns which should be valid for the function.\n",
            "  data5_hourly_mean = data5.groupby(pd.Grouper(freq='3H')).mean()\n"
          ]
        }
      ]
    },
    {
      "cell_type": "code",
      "source": [
        "data5_hourly_mean.shape"
      ],
      "metadata": {
        "colab": {
          "base_uri": "https://localhost:8080/"
        },
        "id": "akybvw-ZChku",
        "outputId": "d11ae086-b537-49cf-8a4a-b94adae465d9"
      },
      "execution_count": 76,
      "outputs": [
        {
          "output_type": "execute_result",
          "data": {
            "text/plain": [
              "(2921, 53)"
            ]
          },
          "metadata": {},
          "execution_count": 76
        }
      ]
    },
    {
      "cell_type": "code",
      "source": [
        "data5_hourly_mean.isnull().sum().sum()"
      ],
      "metadata": {
        "colab": {
          "base_uri": "https://localhost:8080/"
        },
        "id": "-_riikEaCmBW",
        "outputId": "511b4349-55ce-42cc-95fe-9f91fefd5a36"
      },
      "execution_count": 77,
      "outputs": [
        {
          "output_type": "execute_result",
          "data": {
            "text/plain": [
              "0"
            ]
          },
          "metadata": {},
          "execution_count": 77
        }
      ]
    },
    {
      "cell_type": "code",
      "source": [
        "data6 = pd.read_csv('/content/drive/MyDrive/dsc_fc_summed_spectra_2021_v01.csv', \\\n",
        "delimiter = ',', parse_dates=[0], \\\n",
        "infer_datetime_format=True, na_values='0', \\\n",
        "header = None)\n",
        "\n",
        "data6.shape"
      ],
      "metadata": {
        "colab": {
          "base_uri": "https://localhost:8080/"
        },
        "id": "R_NlAB4M8BGB",
        "outputId": "43448c2d-50c5-4116-9c28-6f1460259e19"
      },
      "execution_count": 78,
      "outputs": [
        {
          "output_type": "execute_result",
          "data": {
            "text/plain": [
              "(525600, 54)"
            ]
          },
          "metadata": {},
          "execution_count": 78
        }
      ]
    },
    {
      "cell_type": "code",
      "source": [
        "import pandas as pd\n",
        "from sklearn.impute import KNNImputer\n",
        "from sklearn.impute import SimpleImputer\n",
        "\n",
        "from sklearn.impute import KNNImputer, SimpleImputer\n",
        "\n",
        "\n",
        "# Select columns for KNN imputation (excluding the label column)\n",
        "knn_imputation_data = data6.iloc[:, 1:]\n",
        "\n",
        "# Create a KNNImputer instance\n",
        "knn_imputer = KNNImputer(n_neighbors=20)\n",
        "\n",
        "# Apply KNN imputation along axis=1\n",
        "imputed_data = knn_imputer.fit_transform(knn_imputation_data.T).T\n",
        "\n",
        "# Display the imputed data\n",
        "print(\"Original Data:\\n\", data6.iloc[:,1:])\n",
        "print(\"\\nImputed Data:\\n\", imputed_data)\n",
        "\n",
        "\n",
        "# Convert imputed data to a DataFrame\n",
        "imputed_data_12 = pd.DataFrame(imputed_data)\n",
        "imputed_data_12= imputed_data_12.iloc[:,:]\n",
        "imputed_data_12.isnull().sum().sum()"
      ],
      "metadata": {
        "colab": {
          "base_uri": "https://localhost:8080/"
        },
        "id": "VZDpbscfCvBV",
        "outputId": "5419fc5e-15c3-4c80-8da4-be75f23cb7b5"
      },
      "execution_count": 79,
      "outputs": [
        {
          "output_type": "stream",
          "name": "stdout",
          "text": [
            "Original Data:\n",
            "               1        2        3        4         5        6        7   \\\n",
            "0      -0.948315 -1.29987  2.52648  35.6484  0.231726  42.2461  39.7696   \n",
            "1      -1.078140 -1.55924  2.29992  35.7236  0.231726  42.7768  40.4615   \n",
            "2      -1.050860 -1.58057  2.29622  35.5839  0.231726  42.6242  40.6932   \n",
            "3      -1.264670 -1.62778  2.10860  35.4769  0.231726  42.1628  40.6225   \n",
            "4      -1.373980 -1.62493  2.10137  35.5176  0.231726  43.5401  41.5129   \n",
            "...          ...      ...      ...      ...       ...      ...      ...   \n",
            "525595 -6.388350  1.82727 -4.02363  38.0669  0.231726  46.9656  44.3520   \n",
            "525596 -6.518190  2.16723 -3.57759  37.4031  0.231726  47.6769  45.6470   \n",
            "525597 -6.420670  1.76064 -4.10339  38.3415  0.231726  47.6087  44.4022   \n",
            "525598 -6.298650  1.19849 -4.63329  38.2767  0.239451  46.0327  45.7517   \n",
            "525599 -6.217850  1.27989 -4.73844  38.9057  0.231726  43.8798  44.4918   \n",
            "\n",
            "             8        9        10  ...  44  45  46  47  48  49  50  51  52  53  \n",
            "0       55.6658  51.0384  81.4331  ... NaN NaN NaN NaN NaN NaN NaN NaN NaN NaN  \n",
            "1       56.0995  51.6616  80.8791  ... NaN NaN NaN NaN NaN NaN NaN NaN NaN NaN  \n",
            "2       56.3619  51.0659  80.0825  ... NaN NaN NaN NaN NaN NaN NaN NaN NaN NaN  \n",
            "3       55.6014  50.7821  77.9063  ... NaN NaN NaN NaN NaN NaN NaN NaN NaN NaN  \n",
            "4       56.2557  51.4039  78.7286  ... NaN NaN NaN NaN NaN NaN NaN NaN NaN NaN  \n",
            "...         ...      ...      ...  ...  ..  ..  ..  ..  ..  ..  ..  ..  ..  ..  \n",
            "525595  54.1644  44.3061  68.5287  ... NaN NaN NaN NaN NaN NaN NaN NaN NaN NaN  \n",
            "525596  54.5059  45.1961  66.8294  ... NaN NaN NaN NaN NaN NaN NaN NaN NaN NaN  \n",
            "525597  53.8685  45.1996  68.7809  ... NaN NaN NaN NaN NaN NaN NaN NaN NaN NaN  \n",
            "525598  55.2395  45.2938  68.0598  ... NaN NaN NaN NaN NaN NaN NaN NaN NaN NaN  \n",
            "525599  55.3947  43.3643  60.3793  ... NaN NaN NaN NaN NaN NaN NaN NaN NaN NaN  \n",
            "\n",
            "[525600 rows x 53 columns]\n",
            "\n",
            "Imputed Data:\n",
            " [[ -0.948315  -1.29987    2.52648  ... 303.321785 305.281135 305.281135]\n",
            " [ -1.07814   -1.55924    2.29992  ... 304.07624  305.981355 305.981355]\n",
            " [ -1.05086   -1.58057    2.29622  ... 303.3919   305.264815 305.264815]\n",
            " ...\n",
            " [ -6.42067    1.76064   -4.10339  ... 333.27509  334.3337   332.81173 ]\n",
            " [ -6.29865    1.19849   -4.63329  ... 332.410225 333.51158  332.022425]\n",
            " [ -6.21785    1.27989   -4.73844  ... 333.243575 334.06855  332.99487 ]]\n"
          ]
        },
        {
          "output_type": "execute_result",
          "data": {
            "text/plain": [
              "0"
            ]
          },
          "metadata": {},
          "execution_count": 79
        }
      ]
    },
    {
      "cell_type": "code",
      "source": [
        "import pandas as pd\n",
        "\n",
        "# Assuming data8 is your DataFrame\n",
        "\n",
        "data6 = pd.concat([datetime, imputed_data_12], axis=1)\n",
        "\n",
        "# Convert the timestamp column to datetime format\n",
        "data6.iloc[:, 0] = pd.to_datetime(data6.iloc[:, 0], format='%m/%d/%Y %H:%M:%S')\n",
        "\n",
        "# Set the timestamp column as the index\n",
        "data6.set_index(data6.iloc[:, 0], inplace=True)\n",
        "\n",
        "# Create a new DataFrame to store the results\n",
        "data6_hourly_mean = pd.DataFrame(index=data6.index)\n",
        "\n",
        "# Calculate the mean of minute values within each hour for all columns\n",
        "for col in data6.columns:\n",
        "    # Remove leading/trailing spaces from column names\n",
        "    #cleaned_col = col.strip()\n",
        "\n",
        "    # Group the data by hour and calculate the mean\n",
        "    data6_hourly_mean = data6.groupby(pd.Grouper(freq='3H')).mean()\n",
        "\n",
        "# Reset the index to have a regular DataFrame structure\n",
        "#data6_hourly_mean.reset_index(inplace=True)\n",
        "\n",
        "data6_hourly_mean.to_csv('data2021_hourly_mean.csv', index=False)\n"
      ],
      "metadata": {
        "id": "gq80VmHo8BCa",
        "colab": {
          "base_uri": "https://localhost:8080/"
        },
        "outputId": "19021a0f-cd55-4b21-a884-48d0907cdfb7"
      },
      "execution_count": 81,
      "outputs": [
        {
          "output_type": "stream",
          "name": "stderr",
          "text": [
            "<ipython-input-81-70296cdf0edf>:8: DeprecationWarning: In a future version, `df.iloc[:, i] = newvals` will attempt to set the values inplace instead of always setting a new array. To retain the old behavior, use either `df[df.columns[i]] = newvals` or, if columns are non-unique, `df.isetitem(i, newvals)`\n",
            "  data6.iloc[:, 0] = pd.to_datetime(data6.iloc[:, 0], format='%m/%d/%Y %H:%M:%S')\n",
            "<ipython-input-81-70296cdf0edf>:22: FutureWarning: The default value of numeric_only in DataFrameGroupBy.mean is deprecated. In a future version, numeric_only will default to False. Either specify numeric_only or select only columns which should be valid for the function.\n",
            "  data6_hourly_mean = data6.groupby(pd.Grouper(freq='3H')).mean()\n"
          ]
        }
      ]
    },
    {
      "cell_type": "code",
      "source": [
        "data6_hourly_mean.shape"
      ],
      "metadata": {
        "colab": {
          "base_uri": "https://localhost:8080/"
        },
        "id": "A9EDTdZiNST4",
        "outputId": "2f5f84d4-6682-41cd-c7df-092bc8d13df4"
      },
      "execution_count": 82,
      "outputs": [
        {
          "output_type": "execute_result",
          "data": {
            "text/plain": [
              "(2913, 53)"
            ]
          },
          "metadata": {},
          "execution_count": 82
        }
      ]
    },
    {
      "cell_type": "code",
      "source": [
        "data6_hourly_mean.isnull().sum().sum()"
      ],
      "metadata": {
        "colab": {
          "base_uri": "https://localhost:8080/"
        },
        "id": "cdS4ZFPuNXLC",
        "outputId": "0e3e8283-5894-4086-8acc-f989405a0615"
      },
      "execution_count": 83,
      "outputs": [
        {
          "output_type": "execute_result",
          "data": {
            "text/plain": [
              "0"
            ]
          },
          "metadata": {},
          "execution_count": 83
        }
      ]
    },
    {
      "cell_type": "code",
      "source": [
        "data7 = pd.read_csv('/content/drive/MyDrive/dsc_fc_summed_spectra_2022_v01.csv', \\\n",
        "delimiter = ',', parse_dates=[0], \\\n",
        "infer_datetime_format=True, na_values='0', \\\n",
        "header = None)\n",
        "\n",
        "data7.shape"
      ],
      "metadata": {
        "colab": {
          "base_uri": "https://localhost:8080/"
        },
        "id": "Q4kCW8fPqewG",
        "outputId": "3d20c097-98d7-45de-995f-1b0cea0642b5"
      },
      "execution_count": null,
      "outputs": [
        {
          "output_type": "execute_result",
          "data": {
            "text/plain": [
              "(525600, 54)"
            ]
          },
          "metadata": {},
          "execution_count": 70
        }
      ]
    },
    {
      "cell_type": "code",
      "source": [
        "import pandas as pd\n",
        "\n",
        "# Assuming data8 is your DataFrame\n",
        "\n",
        "# Convert the timestamp column to datetime format\n",
        "data7.iloc[:, 0] = pd.to_datetime(data7.iloc[:, 0], format='%m/%d/%Y %H:%M:%S')\n",
        "\n",
        "# Set the timestamp column as the index\n",
        "data7.set_index(data7.iloc[:, 0], inplace=True)\n",
        "\n",
        "# Create a new DataFrame to store the results\n",
        "data7_hourly_mean = pd.DataFrame(index=data7.index)\n",
        "\n",
        "# Calculate the mean of minute values within each hour for all columns\n",
        "for col in data7.columns:\n",
        "    # Remove leading/trailing spaces from column names\n",
        "    #cleaned_col = col.strip()\n",
        "\n",
        "    # Group the data by hour and calculate the mean\n",
        "    data7_hourly_mean = data7.groupby(pd.Grouper(freq='3H')).mean()\n",
        "\n",
        "# Reset the index to have a regular DataFrame structure\n",
        "data7_hourly_mean.reset_index(inplace=True)\n",
        "\n",
        "data7_hourly_mean.to_csv('data2022_hourly_mean.csv', index=False)\n"
      ],
      "metadata": {
        "colab": {
          "base_uri": "https://localhost:8080/"
        },
        "id": "UXkgH-Izqj09",
        "outputId": "5cb82187-b6d7-472e-925b-9908f129b037"
      },
      "execution_count": null,
      "outputs": [
        {
          "output_type": "stream",
          "name": "stderr",
          "text": [
            "<ipython-input-80-bd8901c93011>:6: DeprecationWarning: In a future version, `df.iloc[:, i] = newvals` will attempt to set the values inplace instead of always setting a new array. To retain the old behavior, use either `df[df.columns[i]] = newvals` or, if columns are non-unique, `df.isetitem(i, newvals)`\n",
            "  data7.iloc[:, 0] = pd.to_datetime(data7.iloc[:, 0], format='%m/%d/%Y %H:%M:%S')\n",
            "<ipython-input-80-bd8901c93011>:20: FutureWarning: The default value of numeric_only in DataFrameGroupBy.mean is deprecated. In a future version, numeric_only will default to False. Either specify numeric_only or select only columns which should be valid for the function.\n",
            "  data7_hourly_mean = data7.groupby(pd.Grouper(freq='3H')).mean()\n"
          ]
        }
      ]
    },
    {
      "cell_type": "code",
      "source": [
        "data8 = pd.read_csv('/content/drive/MyDrive/dsc_fc_summed_spectra_2023_v01.csv', \\\n",
        "delimiter = ',', parse_dates=[0], \\\n",
        "infer_datetime_format=True, na_values='0', \\\n",
        "header = None)\n",
        "\n",
        "data8.shape\n",
        "\n"
      ],
      "metadata": {
        "id": "upeXQVBi8BqL",
        "colab": {
          "base_uri": "https://localhost:8080/"
        },
        "outputId": "8d345d2c-ede5-4a10-d2fd-fca5c7c6697e"
      },
      "execution_count": 7,
      "outputs": [
        {
          "output_type": "execute_result",
          "data": {
            "text/plain": [
              "(175680, 54)"
            ]
          },
          "metadata": {},
          "execution_count": 7
        }
      ]
    },
    {
      "cell_type": "code",
      "source": [
        "import pandas as pd\n",
        "\n",
        "# Assuming data8 is your DataFrame\n",
        "\n",
        "# Convert the timestamp column to datetime format\n",
        "data8.iloc[:, 0] = pd.to_datetime(data8.iloc[:, 0], format='%m/%d/%Y %H:%M:%S')\n",
        "\n",
        "# Set the timestamp column as the index\n",
        "data8.set_index(data8.iloc[:, 0], inplace=True)\n",
        "\n",
        "# Create a new DataFrame to store the results\n",
        "data8_hourly_mean = pd.DataFrame(index=data8.index)\n",
        "\n",
        "# Calculate the mean of minute values within each hour for all columns\n",
        "for col in data8.columns:\n",
        "    # Remove leading/trailing spaces from column names\n",
        "    #cleaned_col = col.strip()\n",
        "\n",
        "    # Group the data by hour and calculate the mean\n",
        "    data8_hourly_mean = data8.groupby(pd.Grouper(freq='3H')).mean()\n",
        "\n",
        "# Reset the index to have a regular DataFrame structure\n",
        "data8_hourly_mean.reset_index(inplace=True)\n"
      ],
      "metadata": {
        "id": "m5aPN_xnGs9A",
        "colab": {
          "base_uri": "https://localhost:8080/"
        },
        "outputId": "972f0a32-4705-40df-ae0e-275c550b1550"
      },
      "execution_count": null,
      "outputs": [
        {
          "output_type": "stream",
          "name": "stderr",
          "text": [
            "<ipython-input-106-955d32396563>:6: DeprecationWarning: In a future version, `df.iloc[:, i] = newvals` will attempt to set the values inplace instead of always setting a new array. To retain the old behavior, use either `df[df.columns[i]] = newvals` or, if columns are non-unique, `df.isetitem(i, newvals)`\n",
            "  data8.iloc[:, 0] = pd.to_datetime(data8.iloc[:, 0], format='%m/%d/%Y %H:%M:%S')\n",
            "<ipython-input-106-955d32396563>:20: FutureWarning: The default value of numeric_only in DataFrameGroupBy.mean is deprecated. In a future version, numeric_only will default to False. Either specify numeric_only or select only columns which should be valid for the function.\n",
            "  data8_hourly_mean = data8.groupby(pd.Grouper(freq='3H')).mean()\n"
          ]
        }
      ]
    },
    {
      "cell_type": "code",
      "source": [
        "data8_hourly_mean.to_csv('data2023_hourly_mean.csv', index=False)"
      ],
      "metadata": {
        "id": "_6VCzFshYPTF"
      },
      "execution_count": null,
      "outputs": []
    },
    {
      "cell_type": "code",
      "source": [
        "print(data_hourly_mean.shape)\n",
        "print(data2_hourly_mean.shape)\n",
        "print(data3_hourly_mean.shape)\n",
        "print(data4_hourly_mean.shape)\n",
        "print(data5_hourly_mean.shape)\n",
        "print(data6_hourly_mean.shape)\n",
        "print(data7_hourly_mean.shape)\n",
        "print(data8_hourly_mean.shape)"
      ],
      "metadata": {
        "colab": {
          "base_uri": "https://localhost:8080/"
        },
        "id": "-c1-NMNOYRh8",
        "outputId": "951deee7-19d5-4684-818a-aca8f6b9cb76"
      },
      "execution_count": null,
      "outputs": [
        {
          "output_type": "stream",
          "name": "stdout",
          "text": [
            "(2928, 54)\n",
            "(2920, 54)\n",
            "(2920, 54)\n",
            "(1424, 54)\n",
            "(2488, 54)\n",
            "(2920, 54)\n",
            "(2920, 54)\n",
            "(976, 54)\n"
          ]
        }
      ]
    },
    {
      "cell_type": "code",
      "source": [
        "import pandas as pd\n",
        "import numpy as np\n",
        "\n",
        "# Assuming data8 is your DataFrame with shape (976, 54)\n",
        "# Replace 'your_time_column' with the actual column name containing timestamps\n",
        "# Replace 'your_value_columns' with a list of the actual column names containing values\n",
        "\n",
        "# Convert the timestamp column to datetime format if it's not already\n",
        "data8.iloc[:, 0] = pd.to_datetime(data8.iloc[:, 0])\n",
        "\n",
        "# Set the timestamp column as the index\n",
        "data8.set_index(data8.iloc[:, 0], inplace=True)\n",
        "\n",
        "# Define the desired shape (2920, 54)\n",
        "desired_rows = 2920 - 976\n",
        "desired_shape = (desired_rows, data8.shape[1])\n",
        "\n",
        "# Create a DataFrame with zeros\n",
        "zeros_df = pd.DataFrame(np.zeros(desired_shape), columns=data8.columns)\n",
        "\n",
        "# Concatenate the original DataFrame with the zeros DataFrame\n",
        "result_df = pd.concat([data8, zeros_df])\n",
        "\n",
        "# Reset the index to have a regular DataFrame structure\n",
        "result_df.reset_index()\n"
      ],
      "metadata": {
        "colab": {
          "base_uri": "https://localhost:8080/",
          "height": 652
        },
        "id": "Sm-MxGwt2ZGO",
        "outputId": "efbe171d-460d-486d-f15e-dce950d5b10a"
      },
      "execution_count": null,
      "outputs": [
        {
          "output_type": "stream",
          "name": "stderr",
          "text": [
            "<ipython-input-108-bd915116adc6>:9: DeprecationWarning: In a future version, `df.iloc[:, i] = newvals` will attempt to set the values inplace instead of always setting a new array. To retain the old behavior, use either `df[df.columns[i]] = newvals` or, if columns are non-unique, `df.isetitem(i, newvals)`\n",
            "  data8.iloc[:, 0] = pd.to_datetime(data8.iloc[:, 0])\n"
          ]
        },
        {
          "output_type": "execute_result",
          "data": {
            "text/plain": [
              "                      index                    0        1        2         3  \\\n",
              "0       2023-01-01 00:00:00  2023-01-01 00:00:00 -2.70274  4.51236 -1.458060   \n",
              "1       2023-01-01 00:01:00  2023-01-01 00:01:00 -2.82748  4.69308 -0.949090   \n",
              "2       2023-01-01 00:02:00  2023-01-01 00:02:00 -1.87608  4.48063 -2.588770   \n",
              "3       2023-01-01 00:03:00  2023-01-01 00:03:00 -2.71541  4.74902 -0.324706   \n",
              "4       2023-01-01 00:04:00  2023-01-01 00:04:00 -2.93342  4.77895 -0.047584   \n",
              "...                     ...                  ...      ...      ...       ...   \n",
              "177619                 1939                  0.0  0.00000  0.00000  0.000000   \n",
              "177620                 1940                  0.0  0.00000  0.00000  0.000000   \n",
              "177621                 1941                  0.0  0.00000  0.00000  0.000000   \n",
              "177622                 1942                  0.0  0.00000  0.00000  0.000000   \n",
              "177623                 1943                  0.0  0.00000  0.00000  0.000000   \n",
              "\n",
              "              4         5         6          7         8  ...       44  \\\n",
              "0       43.0445  0.231726  0.231726   0.818269  22.60750  ...  370.588   \n",
              "1       23.7566  0.231726  0.315117   1.063280  11.22800  ...      NaN   \n",
              "2       61.3445  0.231726  0.231726  11.327000  19.76130  ...  330.078   \n",
              "3       23.4895  0.231726  0.460690   3.708190   8.67441  ...  391.771   \n",
              "4       26.5171  0.231726  0.231726   0.231726  10.46320  ...      NaN   \n",
              "...         ...       ...       ...        ...       ...  ...      ...   \n",
              "177619   0.0000  0.000000  0.000000   0.000000   0.00000  ...    0.000   \n",
              "177620   0.0000  0.000000  0.000000   0.000000   0.00000  ...    0.000   \n",
              "177621   0.0000  0.000000  0.000000   0.000000   0.00000  ...    0.000   \n",
              "177622   0.0000  0.000000  0.000000   0.000000   0.00000  ...    0.000   \n",
              "177623   0.0000  0.000000  0.000000   0.000000   0.00000  ...    0.000   \n",
              "\n",
              "             45   46   47   48   49   50   51   52   53  \n",
              "0       322.576  NaN  NaN  NaN  NaN  NaN  NaN  NaN  NaN  \n",
              "1           NaN  NaN  NaN  NaN  NaN  NaN  NaN  NaN  NaN  \n",
              "2       242.390  NaN  NaN  NaN  NaN  NaN  NaN  NaN  NaN  \n",
              "3           NaN  NaN  NaN  NaN  NaN  NaN  NaN  NaN  NaN  \n",
              "4           NaN  NaN  NaN  NaN  NaN  NaN  NaN  NaN  NaN  \n",
              "...         ...  ...  ...  ...  ...  ...  ...  ...  ...  \n",
              "177619    0.000  0.0  0.0  0.0  0.0  0.0  0.0  0.0  0.0  \n",
              "177620    0.000  0.0  0.0  0.0  0.0  0.0  0.0  0.0  0.0  \n",
              "177621    0.000  0.0  0.0  0.0  0.0  0.0  0.0  0.0  0.0  \n",
              "177622    0.000  0.0  0.0  0.0  0.0  0.0  0.0  0.0  0.0  \n",
              "177623    0.000  0.0  0.0  0.0  0.0  0.0  0.0  0.0  0.0  \n",
              "\n",
              "[177624 rows x 55 columns]"
            ],
            "text/html": [
              "\n",
              "  <div id=\"df-e70b6642-2c99-4dae-8298-c014a44c7fc2\" class=\"colab-df-container\">\n",
              "    <div>\n",
              "<style scoped>\n",
              "    .dataframe tbody tr th:only-of-type {\n",
              "        vertical-align: middle;\n",
              "    }\n",
              "\n",
              "    .dataframe tbody tr th {\n",
              "        vertical-align: top;\n",
              "    }\n",
              "\n",
              "    .dataframe thead th {\n",
              "        text-align: right;\n",
              "    }\n",
              "</style>\n",
              "<table border=\"1\" class=\"dataframe\">\n",
              "  <thead>\n",
              "    <tr style=\"text-align: right;\">\n",
              "      <th></th>\n",
              "      <th>index</th>\n",
              "      <th>0</th>\n",
              "      <th>1</th>\n",
              "      <th>2</th>\n",
              "      <th>3</th>\n",
              "      <th>4</th>\n",
              "      <th>5</th>\n",
              "      <th>6</th>\n",
              "      <th>7</th>\n",
              "      <th>8</th>\n",
              "      <th>...</th>\n",
              "      <th>44</th>\n",
              "      <th>45</th>\n",
              "      <th>46</th>\n",
              "      <th>47</th>\n",
              "      <th>48</th>\n",
              "      <th>49</th>\n",
              "      <th>50</th>\n",
              "      <th>51</th>\n",
              "      <th>52</th>\n",
              "      <th>53</th>\n",
              "    </tr>\n",
              "  </thead>\n",
              "  <tbody>\n",
              "    <tr>\n",
              "      <th>0</th>\n",
              "      <td>2023-01-01 00:00:00</td>\n",
              "      <td>2023-01-01 00:00:00</td>\n",
              "      <td>-2.70274</td>\n",
              "      <td>4.51236</td>\n",
              "      <td>-1.458060</td>\n",
              "      <td>43.0445</td>\n",
              "      <td>0.231726</td>\n",
              "      <td>0.231726</td>\n",
              "      <td>0.818269</td>\n",
              "      <td>22.60750</td>\n",
              "      <td>...</td>\n",
              "      <td>370.588</td>\n",
              "      <td>322.576</td>\n",
              "      <td>NaN</td>\n",
              "      <td>NaN</td>\n",
              "      <td>NaN</td>\n",
              "      <td>NaN</td>\n",
              "      <td>NaN</td>\n",
              "      <td>NaN</td>\n",
              "      <td>NaN</td>\n",
              "      <td>NaN</td>\n",
              "    </tr>\n",
              "    <tr>\n",
              "      <th>1</th>\n",
              "      <td>2023-01-01 00:01:00</td>\n",
              "      <td>2023-01-01 00:01:00</td>\n",
              "      <td>-2.82748</td>\n",
              "      <td>4.69308</td>\n",
              "      <td>-0.949090</td>\n",
              "      <td>23.7566</td>\n",
              "      <td>0.231726</td>\n",
              "      <td>0.315117</td>\n",
              "      <td>1.063280</td>\n",
              "      <td>11.22800</td>\n",
              "      <td>...</td>\n",
              "      <td>NaN</td>\n",
              "      <td>NaN</td>\n",
              "      <td>NaN</td>\n",
              "      <td>NaN</td>\n",
              "      <td>NaN</td>\n",
              "      <td>NaN</td>\n",
              "      <td>NaN</td>\n",
              "      <td>NaN</td>\n",
              "      <td>NaN</td>\n",
              "      <td>NaN</td>\n",
              "    </tr>\n",
              "    <tr>\n",
              "      <th>2</th>\n",
              "      <td>2023-01-01 00:02:00</td>\n",
              "      <td>2023-01-01 00:02:00</td>\n",
              "      <td>-1.87608</td>\n",
              "      <td>4.48063</td>\n",
              "      <td>-2.588770</td>\n",
              "      <td>61.3445</td>\n",
              "      <td>0.231726</td>\n",
              "      <td>0.231726</td>\n",
              "      <td>11.327000</td>\n",
              "      <td>19.76130</td>\n",
              "      <td>...</td>\n",
              "      <td>330.078</td>\n",
              "      <td>242.390</td>\n",
              "      <td>NaN</td>\n",
              "      <td>NaN</td>\n",
              "      <td>NaN</td>\n",
              "      <td>NaN</td>\n",
              "      <td>NaN</td>\n",
              "      <td>NaN</td>\n",
              "      <td>NaN</td>\n",
              "      <td>NaN</td>\n",
              "    </tr>\n",
              "    <tr>\n",
              "      <th>3</th>\n",
              "      <td>2023-01-01 00:03:00</td>\n",
              "      <td>2023-01-01 00:03:00</td>\n",
              "      <td>-2.71541</td>\n",
              "      <td>4.74902</td>\n",
              "      <td>-0.324706</td>\n",
              "      <td>23.4895</td>\n",
              "      <td>0.231726</td>\n",
              "      <td>0.460690</td>\n",
              "      <td>3.708190</td>\n",
              "      <td>8.67441</td>\n",
              "      <td>...</td>\n",
              "      <td>391.771</td>\n",
              "      <td>NaN</td>\n",
              "      <td>NaN</td>\n",
              "      <td>NaN</td>\n",
              "      <td>NaN</td>\n",
              "      <td>NaN</td>\n",
              "      <td>NaN</td>\n",
              "      <td>NaN</td>\n",
              "      <td>NaN</td>\n",
              "      <td>NaN</td>\n",
              "    </tr>\n",
              "    <tr>\n",
              "      <th>4</th>\n",
              "      <td>2023-01-01 00:04:00</td>\n",
              "      <td>2023-01-01 00:04:00</td>\n",
              "      <td>-2.93342</td>\n",
              "      <td>4.77895</td>\n",
              "      <td>-0.047584</td>\n",
              "      <td>26.5171</td>\n",
              "      <td>0.231726</td>\n",
              "      <td>0.231726</td>\n",
              "      <td>0.231726</td>\n",
              "      <td>10.46320</td>\n",
              "      <td>...</td>\n",
              "      <td>NaN</td>\n",
              "      <td>NaN</td>\n",
              "      <td>NaN</td>\n",
              "      <td>NaN</td>\n",
              "      <td>NaN</td>\n",
              "      <td>NaN</td>\n",
              "      <td>NaN</td>\n",
              "      <td>NaN</td>\n",
              "      <td>NaN</td>\n",
              "      <td>NaN</td>\n",
              "    </tr>\n",
              "    <tr>\n",
              "      <th>...</th>\n",
              "      <td>...</td>\n",
              "      <td>...</td>\n",
              "      <td>...</td>\n",
              "      <td>...</td>\n",
              "      <td>...</td>\n",
              "      <td>...</td>\n",
              "      <td>...</td>\n",
              "      <td>...</td>\n",
              "      <td>...</td>\n",
              "      <td>...</td>\n",
              "      <td>...</td>\n",
              "      <td>...</td>\n",
              "      <td>...</td>\n",
              "      <td>...</td>\n",
              "      <td>...</td>\n",
              "      <td>...</td>\n",
              "      <td>...</td>\n",
              "      <td>...</td>\n",
              "      <td>...</td>\n",
              "      <td>...</td>\n",
              "      <td>...</td>\n",
              "    </tr>\n",
              "    <tr>\n",
              "      <th>177619</th>\n",
              "      <td>1939</td>\n",
              "      <td>0.0</td>\n",
              "      <td>0.00000</td>\n",
              "      <td>0.00000</td>\n",
              "      <td>0.000000</td>\n",
              "      <td>0.0000</td>\n",
              "      <td>0.000000</td>\n",
              "      <td>0.000000</td>\n",
              "      <td>0.000000</td>\n",
              "      <td>0.00000</td>\n",
              "      <td>...</td>\n",
              "      <td>0.000</td>\n",
              "      <td>0.000</td>\n",
              "      <td>0.0</td>\n",
              "      <td>0.0</td>\n",
              "      <td>0.0</td>\n",
              "      <td>0.0</td>\n",
              "      <td>0.0</td>\n",
              "      <td>0.0</td>\n",
              "      <td>0.0</td>\n",
              "      <td>0.0</td>\n",
              "    </tr>\n",
              "    <tr>\n",
              "      <th>177620</th>\n",
              "      <td>1940</td>\n",
              "      <td>0.0</td>\n",
              "      <td>0.00000</td>\n",
              "      <td>0.00000</td>\n",
              "      <td>0.000000</td>\n",
              "      <td>0.0000</td>\n",
              "      <td>0.000000</td>\n",
              "      <td>0.000000</td>\n",
              "      <td>0.000000</td>\n",
              "      <td>0.00000</td>\n",
              "      <td>...</td>\n",
              "      <td>0.000</td>\n",
              "      <td>0.000</td>\n",
              "      <td>0.0</td>\n",
              "      <td>0.0</td>\n",
              "      <td>0.0</td>\n",
              "      <td>0.0</td>\n",
              "      <td>0.0</td>\n",
              "      <td>0.0</td>\n",
              "      <td>0.0</td>\n",
              "      <td>0.0</td>\n",
              "    </tr>\n",
              "    <tr>\n",
              "      <th>177621</th>\n",
              "      <td>1941</td>\n",
              "      <td>0.0</td>\n",
              "      <td>0.00000</td>\n",
              "      <td>0.00000</td>\n",
              "      <td>0.000000</td>\n",
              "      <td>0.0000</td>\n",
              "      <td>0.000000</td>\n",
              "      <td>0.000000</td>\n",
              "      <td>0.000000</td>\n",
              "      <td>0.00000</td>\n",
              "      <td>...</td>\n",
              "      <td>0.000</td>\n",
              "      <td>0.000</td>\n",
              "      <td>0.0</td>\n",
              "      <td>0.0</td>\n",
              "      <td>0.0</td>\n",
              "      <td>0.0</td>\n",
              "      <td>0.0</td>\n",
              "      <td>0.0</td>\n",
              "      <td>0.0</td>\n",
              "      <td>0.0</td>\n",
              "    </tr>\n",
              "    <tr>\n",
              "      <th>177622</th>\n",
              "      <td>1942</td>\n",
              "      <td>0.0</td>\n",
              "      <td>0.00000</td>\n",
              "      <td>0.00000</td>\n",
              "      <td>0.000000</td>\n",
              "      <td>0.0000</td>\n",
              "      <td>0.000000</td>\n",
              "      <td>0.000000</td>\n",
              "      <td>0.000000</td>\n",
              "      <td>0.00000</td>\n",
              "      <td>...</td>\n",
              "      <td>0.000</td>\n",
              "      <td>0.000</td>\n",
              "      <td>0.0</td>\n",
              "      <td>0.0</td>\n",
              "      <td>0.0</td>\n",
              "      <td>0.0</td>\n",
              "      <td>0.0</td>\n",
              "      <td>0.0</td>\n",
              "      <td>0.0</td>\n",
              "      <td>0.0</td>\n",
              "    </tr>\n",
              "    <tr>\n",
              "      <th>177623</th>\n",
              "      <td>1943</td>\n",
              "      <td>0.0</td>\n",
              "      <td>0.00000</td>\n",
              "      <td>0.00000</td>\n",
              "      <td>0.000000</td>\n",
              "      <td>0.0000</td>\n",
              "      <td>0.000000</td>\n",
              "      <td>0.000000</td>\n",
              "      <td>0.000000</td>\n",
              "      <td>0.00000</td>\n",
              "      <td>...</td>\n",
              "      <td>0.000</td>\n",
              "      <td>0.000</td>\n",
              "      <td>0.0</td>\n",
              "      <td>0.0</td>\n",
              "      <td>0.0</td>\n",
              "      <td>0.0</td>\n",
              "      <td>0.0</td>\n",
              "      <td>0.0</td>\n",
              "      <td>0.0</td>\n",
              "      <td>0.0</td>\n",
              "    </tr>\n",
              "  </tbody>\n",
              "</table>\n",
              "<p>177624 rows × 55 columns</p>\n",
              "</div>\n",
              "    <div class=\"colab-df-buttons\">\n",
              "\n",
              "  <div class=\"colab-df-container\">\n",
              "    <button class=\"colab-df-convert\" onclick=\"convertToInteractive('df-e70b6642-2c99-4dae-8298-c014a44c7fc2')\"\n",
              "            title=\"Convert this dataframe to an interactive table.\"\n",
              "            style=\"display:none;\">\n",
              "\n",
              "  <svg xmlns=\"http://www.w3.org/2000/svg\" height=\"24px\" viewBox=\"0 -960 960 960\">\n",
              "    <path d=\"M120-120v-720h720v720H120Zm60-500h600v-160H180v160Zm220 220h160v-160H400v160Zm0 220h160v-160H400v160ZM180-400h160v-160H180v160Zm440 0h160v-160H620v160ZM180-180h160v-160H180v160Zm440 0h160v-160H620v160Z\"/>\n",
              "  </svg>\n",
              "    </button>\n",
              "\n",
              "  <style>\n",
              "    .colab-df-container {\n",
              "      display:flex;\n",
              "      gap: 12px;\n",
              "    }\n",
              "\n",
              "    .colab-df-convert {\n",
              "      background-color: #E8F0FE;\n",
              "      border: none;\n",
              "      border-radius: 50%;\n",
              "      cursor: pointer;\n",
              "      display: none;\n",
              "      fill: #1967D2;\n",
              "      height: 32px;\n",
              "      padding: 0 0 0 0;\n",
              "      width: 32px;\n",
              "    }\n",
              "\n",
              "    .colab-df-convert:hover {\n",
              "      background-color: #E2EBFA;\n",
              "      box-shadow: 0px 1px 2px rgba(60, 64, 67, 0.3), 0px 1px 3px 1px rgba(60, 64, 67, 0.15);\n",
              "      fill: #174EA6;\n",
              "    }\n",
              "\n",
              "    .colab-df-buttons div {\n",
              "      margin-bottom: 4px;\n",
              "    }\n",
              "\n",
              "    [theme=dark] .colab-df-convert {\n",
              "      background-color: #3B4455;\n",
              "      fill: #D2E3FC;\n",
              "    }\n",
              "\n",
              "    [theme=dark] .colab-df-convert:hover {\n",
              "      background-color: #434B5C;\n",
              "      box-shadow: 0px 1px 3px 1px rgba(0, 0, 0, 0.15);\n",
              "      filter: drop-shadow(0px 1px 2px rgba(0, 0, 0, 0.3));\n",
              "      fill: #FFFFFF;\n",
              "    }\n",
              "  </style>\n",
              "\n",
              "    <script>\n",
              "      const buttonEl =\n",
              "        document.querySelector('#df-e70b6642-2c99-4dae-8298-c014a44c7fc2 button.colab-df-convert');\n",
              "      buttonEl.style.display =\n",
              "        google.colab.kernel.accessAllowed ? 'block' : 'none';\n",
              "\n",
              "      async function convertToInteractive(key) {\n",
              "        const element = document.querySelector('#df-e70b6642-2c99-4dae-8298-c014a44c7fc2');\n",
              "        const dataTable =\n",
              "          await google.colab.kernel.invokeFunction('convertToInteractive',\n",
              "                                                    [key], {});\n",
              "        if (!dataTable) return;\n",
              "\n",
              "        const docLinkHtml = 'Like what you see? Visit the ' +\n",
              "          '<a target=\"_blank\" href=https://colab.research.google.com/notebooks/data_table.ipynb>data table notebook</a>'\n",
              "          + ' to learn more about interactive tables.';\n",
              "        element.innerHTML = '';\n",
              "        dataTable['output_type'] = 'display_data';\n",
              "        await google.colab.output.renderOutput(dataTable, element);\n",
              "        const docLink = document.createElement('div');\n",
              "        docLink.innerHTML = docLinkHtml;\n",
              "        element.appendChild(docLink);\n",
              "      }\n",
              "    </script>\n",
              "  </div>\n",
              "\n",
              "\n",
              "<div id=\"df-42289dff-b9d1-4f7a-9e02-f8daabdc955c\">\n",
              "  <button class=\"colab-df-quickchart\" onclick=\"quickchart('df-42289dff-b9d1-4f7a-9e02-f8daabdc955c')\"\n",
              "            title=\"Suggest charts.\"\n",
              "            style=\"display:none;\">\n",
              "\n",
              "<svg xmlns=\"http://www.w3.org/2000/svg\" height=\"24px\"viewBox=\"0 0 24 24\"\n",
              "     width=\"24px\">\n",
              "    <g>\n",
              "        <path d=\"M19 3H5c-1.1 0-2 .9-2 2v14c0 1.1.9 2 2 2h14c1.1 0 2-.9 2-2V5c0-1.1-.9-2-2-2zM9 17H7v-7h2v7zm4 0h-2V7h2v10zm4 0h-2v-4h2v4z\"/>\n",
              "    </g>\n",
              "</svg>\n",
              "  </button>\n",
              "\n",
              "<style>\n",
              "  .colab-df-quickchart {\n",
              "      --bg-color: #E8F0FE;\n",
              "      --fill-color: #1967D2;\n",
              "      --hover-bg-color: #E2EBFA;\n",
              "      --hover-fill-color: #174EA6;\n",
              "      --disabled-fill-color: #AAA;\n",
              "      --disabled-bg-color: #DDD;\n",
              "  }\n",
              "\n",
              "  [theme=dark] .colab-df-quickchart {\n",
              "      --bg-color: #3B4455;\n",
              "      --fill-color: #D2E3FC;\n",
              "      --hover-bg-color: #434B5C;\n",
              "      --hover-fill-color: #FFFFFF;\n",
              "      --disabled-bg-color: #3B4455;\n",
              "      --disabled-fill-color: #666;\n",
              "  }\n",
              "\n",
              "  .colab-df-quickchart {\n",
              "    background-color: var(--bg-color);\n",
              "    border: none;\n",
              "    border-radius: 50%;\n",
              "    cursor: pointer;\n",
              "    display: none;\n",
              "    fill: var(--fill-color);\n",
              "    height: 32px;\n",
              "    padding: 0;\n",
              "    width: 32px;\n",
              "  }\n",
              "\n",
              "  .colab-df-quickchart:hover {\n",
              "    background-color: var(--hover-bg-color);\n",
              "    box-shadow: 0 1px 2px rgba(60, 64, 67, 0.3), 0 1px 3px 1px rgba(60, 64, 67, 0.15);\n",
              "    fill: var(--button-hover-fill-color);\n",
              "  }\n",
              "\n",
              "  .colab-df-quickchart-complete:disabled,\n",
              "  .colab-df-quickchart-complete:disabled:hover {\n",
              "    background-color: var(--disabled-bg-color);\n",
              "    fill: var(--disabled-fill-color);\n",
              "    box-shadow: none;\n",
              "  }\n",
              "\n",
              "  .colab-df-spinner {\n",
              "    border: 2px solid var(--fill-color);\n",
              "    border-color: transparent;\n",
              "    border-bottom-color: var(--fill-color);\n",
              "    animation:\n",
              "      spin 1s steps(1) infinite;\n",
              "  }\n",
              "\n",
              "  @keyframes spin {\n",
              "    0% {\n",
              "      border-color: transparent;\n",
              "      border-bottom-color: var(--fill-color);\n",
              "      border-left-color: var(--fill-color);\n",
              "    }\n",
              "    20% {\n",
              "      border-color: transparent;\n",
              "      border-left-color: var(--fill-color);\n",
              "      border-top-color: var(--fill-color);\n",
              "    }\n",
              "    30% {\n",
              "      border-color: transparent;\n",
              "      border-left-color: var(--fill-color);\n",
              "      border-top-color: var(--fill-color);\n",
              "      border-right-color: var(--fill-color);\n",
              "    }\n",
              "    40% {\n",
              "      border-color: transparent;\n",
              "      border-right-color: var(--fill-color);\n",
              "      border-top-color: var(--fill-color);\n",
              "    }\n",
              "    60% {\n",
              "      border-color: transparent;\n",
              "      border-right-color: var(--fill-color);\n",
              "    }\n",
              "    80% {\n",
              "      border-color: transparent;\n",
              "      border-right-color: var(--fill-color);\n",
              "      border-bottom-color: var(--fill-color);\n",
              "    }\n",
              "    90% {\n",
              "      border-color: transparent;\n",
              "      border-bottom-color: var(--fill-color);\n",
              "    }\n",
              "  }\n",
              "</style>\n",
              "\n",
              "  <script>\n",
              "    async function quickchart(key) {\n",
              "      const quickchartButtonEl =\n",
              "        document.querySelector('#' + key + ' button');\n",
              "      quickchartButtonEl.disabled = true;  // To prevent multiple clicks.\n",
              "      quickchartButtonEl.classList.add('colab-df-spinner');\n",
              "      try {\n",
              "        const charts = await google.colab.kernel.invokeFunction(\n",
              "            'suggestCharts', [key], {});\n",
              "      } catch (error) {\n",
              "        console.error('Error during call to suggestCharts:', error);\n",
              "      }\n",
              "      quickchartButtonEl.classList.remove('colab-df-spinner');\n",
              "      quickchartButtonEl.classList.add('colab-df-quickchart-complete');\n",
              "    }\n",
              "    (() => {\n",
              "      let quickchartButtonEl =\n",
              "        document.querySelector('#df-42289dff-b9d1-4f7a-9e02-f8daabdc955c button');\n",
              "      quickchartButtonEl.style.display =\n",
              "        google.colab.kernel.accessAllowed ? 'block' : 'none';\n",
              "    })();\n",
              "  </script>\n",
              "</div>\n",
              "    </div>\n",
              "  </div>\n"
            ]
          },
          "metadata": {},
          "execution_count": 108
        }
      ]
    },
    {
      "cell_type": "code",
      "source": [
        "data8.shape\n"
      ],
      "metadata": {
        "colab": {
          "base_uri": "https://localhost:8080/"
        },
        "id": "3wuFZcGg7d_w",
        "outputId": "8a493dfa-007e-4647-8b20-2fe3623b5dfa"
      },
      "execution_count": null,
      "outputs": [
        {
          "output_type": "execute_result",
          "data": {
            "text/plain": [
              "(175680, 54)"
            ]
          },
          "metadata": {},
          "execution_count": 109
        }
      ]
    },
    {
      "cell_type": "code",
      "source": [
        "import pandas as pd\n",
        "from sklearn.impute import KNNImputer\n",
        "\n",
        "# Assuming 'data' is your DataFrame\n",
        "\n",
        "# Select columns for KNN imputation (excluding the label column)\n",
        "knn_imputation_data = data.iloc[:, :-1]\n",
        "\n",
        "# Convert datetime columns to numeric representation\n",
        "date_cols = knn_imputation_data.select_dtypes(include=['datetime64']).columns\n",
        "knn_imputation_data[date_cols] = knn_imputation_data[date_cols].apply(lambda x: x.astype(int) / 10**9)\n",
        "\n",
        "# Create a KNNImputer instance\n",
        "knn_imputer = KNNImputer(n_neighbors=20)\n",
        "\n",
        "# Apply KNN imputation along axis=0 (rows)\n",
        "imputed_data = knn_imputer.fit_transform(knn_imputation_data)\n",
        "\n",
        "# Convert imputed data back to datetime format\n",
        "imputed_data_df = pd.DataFrame(imputed_data, columns=knn_imputation_data.columns)\n",
        "imputed_data_df[date_cols] = imputed_data_df[date_cols].apply(lambda x: pd.to_datetime(x, unit='s'))\n",
        "\n",
        "# Display the imputed data\n",
        "print(\"Original Data:\\n\", knn_imputation_data)\n",
        "print(\"\\nImputed Data:\\n\", imputed_data_df)\n",
        "\n",
        "# Check for missing values in the imputed data\n",
        "print(imputed_data_df.isnull().sum().sum())\n"
      ],
      "metadata": {
        "id": "2ekbpcEJ_7zZ",
        "colab": {
          "base_uri": "https://localhost:8080/",
          "height": 390
        },
        "outputId": "14f12b6b-ed45-4ddc-c6a6-15b3a207c5a5"
      },
      "execution_count": 116,
      "outputs": [
        {
          "output_type": "error",
          "ename": "KeyboardInterrupt",
          "evalue": "ignored",
          "traceback": [
            "\u001b[0;31m---------------------------------------------------------------------------\u001b[0m",
            "\u001b[0;31mKeyboardInterrupt\u001b[0m                         Traceback (most recent call last)",
            "\u001b[0;32m<ipython-input-116-68614939f0bf>\u001b[0m in \u001b[0;36m<cell line: 17>\u001b[0;34m()\u001b[0m\n\u001b[1;32m     15\u001b[0m \u001b[0;34m\u001b[0m\u001b[0m\n\u001b[1;32m     16\u001b[0m \u001b[0;31m# Apply KNN imputation along axis=0 (rows)\u001b[0m\u001b[0;34m\u001b[0m\u001b[0;34m\u001b[0m\u001b[0m\n\u001b[0;32m---> 17\u001b[0;31m \u001b[0mimputed_data\u001b[0m \u001b[0;34m=\u001b[0m \u001b[0mknn_imputer\u001b[0m\u001b[0;34m.\u001b[0m\u001b[0mfit_transform\u001b[0m\u001b[0;34m(\u001b[0m\u001b[0mknn_imputation_data\u001b[0m\u001b[0;34m)\u001b[0m\u001b[0;34m\u001b[0m\u001b[0;34m\u001b[0m\u001b[0m\n\u001b[0m\u001b[1;32m     18\u001b[0m \u001b[0;34m\u001b[0m\u001b[0m\n\u001b[1;32m     19\u001b[0m \u001b[0;31m# Convert imputed data back to datetime format\u001b[0m\u001b[0;34m\u001b[0m\u001b[0;34m\u001b[0m\u001b[0m\n",
            "\u001b[0;32m/usr/local/lib/python3.10/dist-packages/sklearn/utils/_set_output.py\u001b[0m in \u001b[0;36mwrapped\u001b[0;34m(self, X, *args, **kwargs)\u001b[0m\n\u001b[1;32m    138\u001b[0m     \u001b[0;34m@\u001b[0m\u001b[0mwraps\u001b[0m\u001b[0;34m(\u001b[0m\u001b[0mf\u001b[0m\u001b[0;34m)\u001b[0m\u001b[0;34m\u001b[0m\u001b[0;34m\u001b[0m\u001b[0m\n\u001b[1;32m    139\u001b[0m     \u001b[0;32mdef\u001b[0m \u001b[0mwrapped\u001b[0m\u001b[0;34m(\u001b[0m\u001b[0mself\u001b[0m\u001b[0;34m,\u001b[0m \u001b[0mX\u001b[0m\u001b[0;34m,\u001b[0m \u001b[0;34m*\u001b[0m\u001b[0margs\u001b[0m\u001b[0;34m,\u001b[0m \u001b[0;34m**\u001b[0m\u001b[0mkwargs\u001b[0m\u001b[0;34m)\u001b[0m\u001b[0;34m:\u001b[0m\u001b[0;34m\u001b[0m\u001b[0;34m\u001b[0m\u001b[0m\n\u001b[0;32m--> 140\u001b[0;31m         \u001b[0mdata_to_wrap\u001b[0m \u001b[0;34m=\u001b[0m \u001b[0mf\u001b[0m\u001b[0;34m(\u001b[0m\u001b[0mself\u001b[0m\u001b[0;34m,\u001b[0m \u001b[0mX\u001b[0m\u001b[0;34m,\u001b[0m \u001b[0;34m*\u001b[0m\u001b[0margs\u001b[0m\u001b[0;34m,\u001b[0m \u001b[0;34m**\u001b[0m\u001b[0mkwargs\u001b[0m\u001b[0;34m)\u001b[0m\u001b[0;34m\u001b[0m\u001b[0;34m\u001b[0m\u001b[0m\n\u001b[0m\u001b[1;32m    141\u001b[0m         \u001b[0;32mif\u001b[0m \u001b[0misinstance\u001b[0m\u001b[0;34m(\u001b[0m\u001b[0mdata_to_wrap\u001b[0m\u001b[0;34m,\u001b[0m \u001b[0mtuple\u001b[0m\u001b[0;34m)\u001b[0m\u001b[0;34m:\u001b[0m\u001b[0;34m\u001b[0m\u001b[0;34m\u001b[0m\u001b[0m\n\u001b[1;32m    142\u001b[0m             \u001b[0;31m# only wrap the first output for cross decomposition\u001b[0m\u001b[0;34m\u001b[0m\u001b[0;34m\u001b[0m\u001b[0m\n",
            "\u001b[0;32m/usr/local/lib/python3.10/dist-packages/sklearn/base.py\u001b[0m in \u001b[0;36mfit_transform\u001b[0;34m(self, X, y, **fit_params)\u001b[0m\n\u001b[1;32m    876\u001b[0m         \u001b[0;32mif\u001b[0m \u001b[0my\u001b[0m \u001b[0;32mis\u001b[0m \u001b[0;32mNone\u001b[0m\u001b[0;34m:\u001b[0m\u001b[0;34m\u001b[0m\u001b[0;34m\u001b[0m\u001b[0m\n\u001b[1;32m    877\u001b[0m             \u001b[0;31m# fit method of arity 1 (unsupervised transformation)\u001b[0m\u001b[0;34m\u001b[0m\u001b[0;34m\u001b[0m\u001b[0m\n\u001b[0;32m--> 878\u001b[0;31m             \u001b[0;32mreturn\u001b[0m \u001b[0mself\u001b[0m\u001b[0;34m.\u001b[0m\u001b[0mfit\u001b[0m\u001b[0;34m(\u001b[0m\u001b[0mX\u001b[0m\u001b[0;34m,\u001b[0m \u001b[0;34m**\u001b[0m\u001b[0mfit_params\u001b[0m\u001b[0;34m)\u001b[0m\u001b[0;34m.\u001b[0m\u001b[0mtransform\u001b[0m\u001b[0;34m(\u001b[0m\u001b[0mX\u001b[0m\u001b[0;34m)\u001b[0m\u001b[0;34m\u001b[0m\u001b[0;34m\u001b[0m\u001b[0m\n\u001b[0m\u001b[1;32m    879\u001b[0m         \u001b[0;32melse\u001b[0m\u001b[0;34m:\u001b[0m\u001b[0;34m\u001b[0m\u001b[0;34m\u001b[0m\u001b[0m\n\u001b[1;32m    880\u001b[0m             \u001b[0;31m# fit method of arity 2 (supervised transformation)\u001b[0m\u001b[0;34m\u001b[0m\u001b[0;34m\u001b[0m\u001b[0m\n",
            "\u001b[0;32m/usr/local/lib/python3.10/dist-packages/sklearn/utils/_set_output.py\u001b[0m in \u001b[0;36mwrapped\u001b[0;34m(self, X, *args, **kwargs)\u001b[0m\n\u001b[1;32m    138\u001b[0m     \u001b[0;34m@\u001b[0m\u001b[0mwraps\u001b[0m\u001b[0;34m(\u001b[0m\u001b[0mf\u001b[0m\u001b[0;34m)\u001b[0m\u001b[0;34m\u001b[0m\u001b[0;34m\u001b[0m\u001b[0m\n\u001b[1;32m    139\u001b[0m     \u001b[0;32mdef\u001b[0m \u001b[0mwrapped\u001b[0m\u001b[0;34m(\u001b[0m\u001b[0mself\u001b[0m\u001b[0;34m,\u001b[0m \u001b[0mX\u001b[0m\u001b[0;34m,\u001b[0m \u001b[0;34m*\u001b[0m\u001b[0margs\u001b[0m\u001b[0;34m,\u001b[0m \u001b[0;34m**\u001b[0m\u001b[0mkwargs\u001b[0m\u001b[0;34m)\u001b[0m\u001b[0;34m:\u001b[0m\u001b[0;34m\u001b[0m\u001b[0;34m\u001b[0m\u001b[0m\n\u001b[0;32m--> 140\u001b[0;31m         \u001b[0mdata_to_wrap\u001b[0m \u001b[0;34m=\u001b[0m \u001b[0mf\u001b[0m\u001b[0;34m(\u001b[0m\u001b[0mself\u001b[0m\u001b[0;34m,\u001b[0m \u001b[0mX\u001b[0m\u001b[0;34m,\u001b[0m \u001b[0;34m*\u001b[0m\u001b[0margs\u001b[0m\u001b[0;34m,\u001b[0m \u001b[0;34m**\u001b[0m\u001b[0mkwargs\u001b[0m\u001b[0;34m)\u001b[0m\u001b[0;34m\u001b[0m\u001b[0;34m\u001b[0m\u001b[0m\n\u001b[0m\u001b[1;32m    141\u001b[0m         \u001b[0;32mif\u001b[0m \u001b[0misinstance\u001b[0m\u001b[0;34m(\u001b[0m\u001b[0mdata_to_wrap\u001b[0m\u001b[0;34m,\u001b[0m \u001b[0mtuple\u001b[0m\u001b[0;34m)\u001b[0m\u001b[0;34m:\u001b[0m\u001b[0;34m\u001b[0m\u001b[0;34m\u001b[0m\u001b[0m\n\u001b[1;32m    142\u001b[0m             \u001b[0;31m# only wrap the first output for cross decomposition\u001b[0m\u001b[0;34m\u001b[0m\u001b[0;34m\u001b[0m\u001b[0m\n",
            "\u001b[0;32m/usr/local/lib/python3.10/dist-packages/sklearn/impute/_knn.py\u001b[0m in \u001b[0;36mtransform\u001b[0;34m(self, X)\u001b[0m\n\u001b[1;32m    355\u001b[0m             \u001b[0mreduce_func\u001b[0m\u001b[0;34m=\u001b[0m\u001b[0mprocess_chunk\u001b[0m\u001b[0;34m,\u001b[0m\u001b[0;34m\u001b[0m\u001b[0;34m\u001b[0m\u001b[0m\n\u001b[1;32m    356\u001b[0m         )\n\u001b[0;32m--> 357\u001b[0;31m         \u001b[0;32mfor\u001b[0m \u001b[0mchunk\u001b[0m \u001b[0;32min\u001b[0m \u001b[0mgen\u001b[0m\u001b[0;34m:\u001b[0m\u001b[0;34m\u001b[0m\u001b[0;34m\u001b[0m\u001b[0m\n\u001b[0m\u001b[1;32m    358\u001b[0m             \u001b[0;31m# process_chunk modifies X in place. No return value.\u001b[0m\u001b[0;34m\u001b[0m\u001b[0;34m\u001b[0m\u001b[0m\n\u001b[1;32m    359\u001b[0m             \u001b[0;32mpass\u001b[0m\u001b[0;34m\u001b[0m\u001b[0;34m\u001b[0m\u001b[0m\n",
            "\u001b[0;32m/usr/local/lib/python3.10/dist-packages/sklearn/metrics/pairwise.py\u001b[0m in \u001b[0;36mpairwise_distances_chunked\u001b[0;34m(X, Y, reduce_func, metric, n_jobs, working_memory, **kwds)\u001b[0m\n\u001b[1;32m   1874\u001b[0m         \u001b[0;32mif\u001b[0m \u001b[0mreduce_func\u001b[0m \u001b[0;32mis\u001b[0m \u001b[0;32mnot\u001b[0m \u001b[0;32mNone\u001b[0m\u001b[0;34m:\u001b[0m\u001b[0;34m\u001b[0m\u001b[0;34m\u001b[0m\u001b[0m\n\u001b[1;32m   1875\u001b[0m             \u001b[0mchunk_size\u001b[0m \u001b[0;34m=\u001b[0m \u001b[0mD_chunk\u001b[0m\u001b[0;34m.\u001b[0m\u001b[0mshape\u001b[0m\u001b[0;34m[\u001b[0m\u001b[0;36m0\u001b[0m\u001b[0;34m]\u001b[0m\u001b[0;34m\u001b[0m\u001b[0;34m\u001b[0m\u001b[0m\n\u001b[0;32m-> 1876\u001b[0;31m             \u001b[0mD_chunk\u001b[0m \u001b[0;34m=\u001b[0m \u001b[0mreduce_func\u001b[0m\u001b[0;34m(\u001b[0m\u001b[0mD_chunk\u001b[0m\u001b[0;34m,\u001b[0m \u001b[0msl\u001b[0m\u001b[0;34m.\u001b[0m\u001b[0mstart\u001b[0m\u001b[0;34m)\u001b[0m\u001b[0;34m\u001b[0m\u001b[0;34m\u001b[0m\u001b[0m\n\u001b[0m\u001b[1;32m   1877\u001b[0m             \u001b[0m_check_chunk_size\u001b[0m\u001b[0;34m(\u001b[0m\u001b[0mD_chunk\u001b[0m\u001b[0;34m,\u001b[0m \u001b[0mchunk_size\u001b[0m\u001b[0;34m)\u001b[0m\u001b[0;34m\u001b[0m\u001b[0;34m\u001b[0m\u001b[0m\n\u001b[1;32m   1878\u001b[0m         \u001b[0;32myield\u001b[0m \u001b[0mD_chunk\u001b[0m\u001b[0;34m\u001b[0m\u001b[0;34m\u001b[0m\u001b[0m\n",
            "\u001b[0;32m/usr/local/lib/python3.10/dist-packages/sklearn/impute/_knn.py\u001b[0m in \u001b[0;36mprocess_chunk\u001b[0;34m(dist_chunk, start)\u001b[0m\n\u001b[1;32m    338\u001b[0m \u001b[0;34m\u001b[0m\u001b[0m\n\u001b[1;32m    339\u001b[0m                 \u001b[0mn_neighbors\u001b[0m \u001b[0;34m=\u001b[0m \u001b[0mmin\u001b[0m\u001b[0;34m(\u001b[0m\u001b[0mself\u001b[0m\u001b[0;34m.\u001b[0m\u001b[0mn_neighbors\u001b[0m\u001b[0;34m,\u001b[0m \u001b[0mlen\u001b[0m\u001b[0;34m(\u001b[0m\u001b[0mpotential_donors_idx\u001b[0m\u001b[0;34m)\u001b[0m\u001b[0;34m)\u001b[0m\u001b[0;34m\u001b[0m\u001b[0;34m\u001b[0m\u001b[0m\n\u001b[0;32m--> 340\u001b[0;31m                 value = self._calc_impute(\n\u001b[0m\u001b[1;32m    341\u001b[0m                     \u001b[0mdist_subset\u001b[0m\u001b[0;34m,\u001b[0m\u001b[0;34m\u001b[0m\u001b[0;34m\u001b[0m\u001b[0m\n\u001b[1;32m    342\u001b[0m                     \u001b[0mn_neighbors\u001b[0m\u001b[0;34m,\u001b[0m\u001b[0;34m\u001b[0m\u001b[0;34m\u001b[0m\u001b[0m\n",
            "\u001b[0;32m/usr/local/lib/python3.10/dist-packages/sklearn/impute/_knn.py\u001b[0m in \u001b[0;36m_calc_impute\u001b[0;34m(self, dist_pot_donors, n_neighbors, fit_X_col, mask_fit_X_col)\u001b[0m\n\u001b[1;32m    178\u001b[0m         \"\"\"\n\u001b[1;32m    179\u001b[0m         \u001b[0;31m# Get donors\u001b[0m\u001b[0;34m\u001b[0m\u001b[0;34m\u001b[0m\u001b[0m\n\u001b[0;32m--> 180\u001b[0;31m         donors_idx = np.argpartition(dist_pot_donors, n_neighbors - 1, axis=1)[\n\u001b[0m\u001b[1;32m    181\u001b[0m             \u001b[0;34m:\u001b[0m\u001b[0;34m,\u001b[0m \u001b[0;34m:\u001b[0m\u001b[0mn_neighbors\u001b[0m\u001b[0;34m\u001b[0m\u001b[0;34m\u001b[0m\u001b[0m\n\u001b[1;32m    182\u001b[0m         ]\n",
            "\u001b[0;32m/usr/local/lib/python3.10/dist-packages/numpy/core/overrides.py\u001b[0m in \u001b[0;36margpartition\u001b[0;34m(*args, **kwargs)\u001b[0m\n",
            "\u001b[0;32m/usr/local/lib/python3.10/dist-packages/numpy/core/fromnumeric.py\u001b[0m in \u001b[0;36margpartition\u001b[0;34m(a, kth, axis, kind, order)\u001b[0m\n\u001b[1;32m    843\u001b[0m \u001b[0;34m\u001b[0m\u001b[0m\n\u001b[1;32m    844\u001b[0m     \"\"\"\n\u001b[0;32m--> 845\u001b[0;31m     \u001b[0;32mreturn\u001b[0m \u001b[0m_wrapfunc\u001b[0m\u001b[0;34m(\u001b[0m\u001b[0ma\u001b[0m\u001b[0;34m,\u001b[0m \u001b[0;34m'argpartition'\u001b[0m\u001b[0;34m,\u001b[0m \u001b[0mkth\u001b[0m\u001b[0;34m,\u001b[0m \u001b[0maxis\u001b[0m\u001b[0;34m=\u001b[0m\u001b[0maxis\u001b[0m\u001b[0;34m,\u001b[0m \u001b[0mkind\u001b[0m\u001b[0;34m=\u001b[0m\u001b[0mkind\u001b[0m\u001b[0;34m,\u001b[0m \u001b[0morder\u001b[0m\u001b[0;34m=\u001b[0m\u001b[0morder\u001b[0m\u001b[0;34m)\u001b[0m\u001b[0;34m\u001b[0m\u001b[0;34m\u001b[0m\u001b[0m\n\u001b[0m\u001b[1;32m    846\u001b[0m \u001b[0;34m\u001b[0m\u001b[0m\n\u001b[1;32m    847\u001b[0m \u001b[0;34m\u001b[0m\u001b[0m\n",
            "\u001b[0;32m/usr/local/lib/python3.10/dist-packages/numpy/core/fromnumeric.py\u001b[0m in \u001b[0;36m_wrapfunc\u001b[0;34m(obj, method, *args, **kwds)\u001b[0m\n\u001b[1;32m     55\u001b[0m \u001b[0;34m\u001b[0m\u001b[0m\n\u001b[1;32m     56\u001b[0m     \u001b[0;32mtry\u001b[0m\u001b[0;34m:\u001b[0m\u001b[0;34m\u001b[0m\u001b[0;34m\u001b[0m\u001b[0m\n\u001b[0;32m---> 57\u001b[0;31m         \u001b[0;32mreturn\u001b[0m \u001b[0mbound\u001b[0m\u001b[0;34m(\u001b[0m\u001b[0;34m*\u001b[0m\u001b[0margs\u001b[0m\u001b[0;34m,\u001b[0m \u001b[0;34m**\u001b[0m\u001b[0mkwds\u001b[0m\u001b[0;34m)\u001b[0m\u001b[0;34m\u001b[0m\u001b[0;34m\u001b[0m\u001b[0m\n\u001b[0m\u001b[1;32m     58\u001b[0m     \u001b[0;32mexcept\u001b[0m \u001b[0mTypeError\u001b[0m\u001b[0;34m:\u001b[0m\u001b[0;34m\u001b[0m\u001b[0;34m\u001b[0m\u001b[0m\n\u001b[1;32m     59\u001b[0m         \u001b[0;31m# A TypeError occurs if the object does have such a method in its\u001b[0m\u001b[0;34m\u001b[0m\u001b[0;34m\u001b[0m\u001b[0m\n",
            "\u001b[0;31mKeyboardInterrupt\u001b[0m: "
          ]
        }
      ]
    },
    {
      "cell_type": "code",
      "source": [
        "import pandas as pd\n",
        "\n",
        "def convert_rows_to_columns(input_file, output_file):\n",
        "    # Read the Excel file into a DataFrame\n",
        "    df = pd.read_excel(input_file, header=None)\n",
        "\n",
        "    # Create a new DataFrame with each row as a column\n",
        "    df_transposed = df.T\n",
        "\n",
        "    # Save the result to a new Excel file\n",
        "    df_transposed.to_excel(output_file, index=False, header=None)\n",
        "\n",
        "if _name_ == \"_main_\":\n",
        "    input_file_path = \"/content/kp2016.xlsx\"  # Replace with the path to your input Excel file\n",
        "    output_file_path = \"/content/outputt.xlsx\"  # Replace with the desired output Excel file path\n",
        "\n",
        "    convert_rows_to_columns(input_file_path, output_file_path)"
      ],
      "metadata": {
        "id": "19PlwMrQYse3"
      },
      "execution_count": null,
      "outputs": []
    },
    {
      "cell_type": "code",
      "source": [
        "def convert_and_append(input_file, output_file):\n",
        "    # Read the Excel file into a DataFrame\n",
        "    df = pd.read_excel(input_file, header=None)\n",
        "\n",
        "    # Create a new DataFrame with each row as a column\n",
        "    df_transposed = df.T\n",
        "\n",
        "    # Flatten the transposed DataFrame into a single column\n",
        "    df_flattened = pd.DataFrame(df_transposed.values.flatten(), columns=['Data'])\n",
        "\n",
        "    # Save the result to a new Excel file\n",
        "    df_flattened.to_excel(output_file, index=False)\n",
        "\n",
        "if _name_ == \"_main_\":\n",
        "    input_file_path = \"/content/outputt.xlsx\"  # Replace with the path to your input Excel file\n",
        "    output_file_path = \"/content/op.xlsx\"  # Replace with the desired output Excel file path\n",
        "\n",
        "    convert_and_append(input_file_path, output_file_path)"
      ],
      "metadata": {
        "id": "9I_zL4PVX9nr"
      },
      "execution_count": null,
      "outputs": []
    },
    {
      "cell_type": "code",
      "source": [
        "import numpy as np"
      ],
      "metadata": {
        "id": "uM-gPV8MPHvb"
      },
      "execution_count": 86,
      "outputs": []
    },
    {
      "cell_type": "code",
      "source": [
        "kp_df=pd.read_csv(\"/content/Kp values.csv\")"
      ],
      "metadata": {
        "id": "ThuXB8pVO17O"
      },
      "execution_count": 87,
      "outputs": []
    },
    {
      "cell_type": "code",
      "source": [
        "newarr0=[]\n",
        "newarr1=[]\n",
        "for i in range (30683,kp_df.shape[0]):\n",
        "    arr0=np.array(kp_df.iloc[i,7:15])\n",
        "    newarr0=np.concatenate((newarr0,arr0))\n",
        "    arr1=np.array(kp_df.iloc[i,15:23])\n",
        "    newarr1=np.concatenate((newarr1,arr1))"
      ],
      "metadata": {
        "id": "qIwW6LXVOx7-"
      },
      "execution_count": 88,
      "outputs": []
    },
    {
      "cell_type": "code",
      "source": [
        "df_arr=pd.DataFrame(newarr1[:17494])"
      ],
      "metadata": {
        "id": "mwFYkbVwQIID"
      },
      "execution_count": 102,
      "outputs": []
    },
    {
      "cell_type": "code",
      "source": [
        "df_arr"
      ],
      "metadata": {
        "colab": {
          "base_uri": "https://localhost:8080/",
          "height": 424
        },
        "id": "hYL1cqMXQtva",
        "outputId": "6b6728c4-0722-4a28-b397-aab7818f9010"
      },
      "execution_count": 103,
      "outputs": [
        {
          "output_type": "execute_result",
          "data": {
            "text/plain": [
              "          0\n",
              "0       2.0\n",
              "1       6.0\n",
              "2       7.0\n",
              "3       3.0\n",
              "4       5.0\n",
              "...     ...\n",
              "17489  12.0\n",
              "17490  12.0\n",
              "17491   6.0\n",
              "17492   6.0\n",
              "17493   9.0\n",
              "\n",
              "[17494 rows x 1 columns]"
            ],
            "text/html": [
              "\n",
              "  <div id=\"df-cdd01faa-ec08-4145-ad2d-4a341319062f\" class=\"colab-df-container\">\n",
              "    <div>\n",
              "<style scoped>\n",
              "    .dataframe tbody tr th:only-of-type {\n",
              "        vertical-align: middle;\n",
              "    }\n",
              "\n",
              "    .dataframe tbody tr th {\n",
              "        vertical-align: top;\n",
              "    }\n",
              "\n",
              "    .dataframe thead th {\n",
              "        text-align: right;\n",
              "    }\n",
              "</style>\n",
              "<table border=\"1\" class=\"dataframe\">\n",
              "  <thead>\n",
              "    <tr style=\"text-align: right;\">\n",
              "      <th></th>\n",
              "      <th>0</th>\n",
              "    </tr>\n",
              "  </thead>\n",
              "  <tbody>\n",
              "    <tr>\n",
              "      <th>0</th>\n",
              "      <td>2.0</td>\n",
              "    </tr>\n",
              "    <tr>\n",
              "      <th>1</th>\n",
              "      <td>6.0</td>\n",
              "    </tr>\n",
              "    <tr>\n",
              "      <th>2</th>\n",
              "      <td>7.0</td>\n",
              "    </tr>\n",
              "    <tr>\n",
              "      <th>3</th>\n",
              "      <td>3.0</td>\n",
              "    </tr>\n",
              "    <tr>\n",
              "      <th>4</th>\n",
              "      <td>5.0</td>\n",
              "    </tr>\n",
              "    <tr>\n",
              "      <th>...</th>\n",
              "      <td>...</td>\n",
              "    </tr>\n",
              "    <tr>\n",
              "      <th>17489</th>\n",
              "      <td>12.0</td>\n",
              "    </tr>\n",
              "    <tr>\n",
              "      <th>17490</th>\n",
              "      <td>12.0</td>\n",
              "    </tr>\n",
              "    <tr>\n",
              "      <th>17491</th>\n",
              "      <td>6.0</td>\n",
              "    </tr>\n",
              "    <tr>\n",
              "      <th>17492</th>\n",
              "      <td>6.0</td>\n",
              "    </tr>\n",
              "    <tr>\n",
              "      <th>17493</th>\n",
              "      <td>9.0</td>\n",
              "    </tr>\n",
              "  </tbody>\n",
              "</table>\n",
              "<p>17494 rows × 1 columns</p>\n",
              "</div>\n",
              "    <div class=\"colab-df-buttons\">\n",
              "\n",
              "  <div class=\"colab-df-container\">\n",
              "    <button class=\"colab-df-convert\" onclick=\"convertToInteractive('df-cdd01faa-ec08-4145-ad2d-4a341319062f')\"\n",
              "            title=\"Convert this dataframe to an interactive table.\"\n",
              "            style=\"display:none;\">\n",
              "\n",
              "  <svg xmlns=\"http://www.w3.org/2000/svg\" height=\"24px\" viewBox=\"0 -960 960 960\">\n",
              "    <path d=\"M120-120v-720h720v720H120Zm60-500h600v-160H180v160Zm220 220h160v-160H400v160Zm0 220h160v-160H400v160ZM180-400h160v-160H180v160Zm440 0h160v-160H620v160ZM180-180h160v-160H180v160Zm440 0h160v-160H620v160Z\"/>\n",
              "  </svg>\n",
              "    </button>\n",
              "\n",
              "  <style>\n",
              "    .colab-df-container {\n",
              "      display:flex;\n",
              "      gap: 12px;\n",
              "    }\n",
              "\n",
              "    .colab-df-convert {\n",
              "      background-color: #E8F0FE;\n",
              "      border: none;\n",
              "      border-radius: 50%;\n",
              "      cursor: pointer;\n",
              "      display: none;\n",
              "      fill: #1967D2;\n",
              "      height: 32px;\n",
              "      padding: 0 0 0 0;\n",
              "      width: 32px;\n",
              "    }\n",
              "\n",
              "    .colab-df-convert:hover {\n",
              "      background-color: #E2EBFA;\n",
              "      box-shadow: 0px 1px 2px rgba(60, 64, 67, 0.3), 0px 1px 3px 1px rgba(60, 64, 67, 0.15);\n",
              "      fill: #174EA6;\n",
              "    }\n",
              "\n",
              "    .colab-df-buttons div {\n",
              "      margin-bottom: 4px;\n",
              "    }\n",
              "\n",
              "    [theme=dark] .colab-df-convert {\n",
              "      background-color: #3B4455;\n",
              "      fill: #D2E3FC;\n",
              "    }\n",
              "\n",
              "    [theme=dark] .colab-df-convert:hover {\n",
              "      background-color: #434B5C;\n",
              "      box-shadow: 0px 1px 3px 1px rgba(0, 0, 0, 0.15);\n",
              "      filter: drop-shadow(0px 1px 2px rgba(0, 0, 0, 0.3));\n",
              "      fill: #FFFFFF;\n",
              "    }\n",
              "  </style>\n",
              "\n",
              "    <script>\n",
              "      const buttonEl =\n",
              "        document.querySelector('#df-cdd01faa-ec08-4145-ad2d-4a341319062f button.colab-df-convert');\n",
              "      buttonEl.style.display =\n",
              "        google.colab.kernel.accessAllowed ? 'block' : 'none';\n",
              "\n",
              "      async function convertToInteractive(key) {\n",
              "        const element = document.querySelector('#df-cdd01faa-ec08-4145-ad2d-4a341319062f');\n",
              "        const dataTable =\n",
              "          await google.colab.kernel.invokeFunction('convertToInteractive',\n",
              "                                                    [key], {});\n",
              "        if (!dataTable) return;\n",
              "\n",
              "        const docLinkHtml = 'Like what you see? Visit the ' +\n",
              "          '<a target=\"_blank\" href=https://colab.research.google.com/notebooks/data_table.ipynb>data table notebook</a>'\n",
              "          + ' to learn more about interactive tables.';\n",
              "        element.innerHTML = '';\n",
              "        dataTable['output_type'] = 'display_data';\n",
              "        await google.colab.output.renderOutput(dataTable, element);\n",
              "        const docLink = document.createElement('div');\n",
              "        docLink.innerHTML = docLinkHtml;\n",
              "        element.appendChild(docLink);\n",
              "      }\n",
              "    </script>\n",
              "  </div>\n",
              "\n",
              "\n",
              "<div id=\"df-579bd6a9-9537-458e-86ba-7ab800df9185\">\n",
              "  <button class=\"colab-df-quickchart\" onclick=\"quickchart('df-579bd6a9-9537-458e-86ba-7ab800df9185')\"\n",
              "            title=\"Suggest charts.\"\n",
              "            style=\"display:none;\">\n",
              "\n",
              "<svg xmlns=\"http://www.w3.org/2000/svg\" height=\"24px\"viewBox=\"0 0 24 24\"\n",
              "     width=\"24px\">\n",
              "    <g>\n",
              "        <path d=\"M19 3H5c-1.1 0-2 .9-2 2v14c0 1.1.9 2 2 2h14c1.1 0 2-.9 2-2V5c0-1.1-.9-2-2-2zM9 17H7v-7h2v7zm4 0h-2V7h2v10zm4 0h-2v-4h2v4z\"/>\n",
              "    </g>\n",
              "</svg>\n",
              "  </button>\n",
              "\n",
              "<style>\n",
              "  .colab-df-quickchart {\n",
              "      --bg-color: #E8F0FE;\n",
              "      --fill-color: #1967D2;\n",
              "      --hover-bg-color: #E2EBFA;\n",
              "      --hover-fill-color: #174EA6;\n",
              "      --disabled-fill-color: #AAA;\n",
              "      --disabled-bg-color: #DDD;\n",
              "  }\n",
              "\n",
              "  [theme=dark] .colab-df-quickchart {\n",
              "      --bg-color: #3B4455;\n",
              "      --fill-color: #D2E3FC;\n",
              "      --hover-bg-color: #434B5C;\n",
              "      --hover-fill-color: #FFFFFF;\n",
              "      --disabled-bg-color: #3B4455;\n",
              "      --disabled-fill-color: #666;\n",
              "  }\n",
              "\n",
              "  .colab-df-quickchart {\n",
              "    background-color: var(--bg-color);\n",
              "    border: none;\n",
              "    border-radius: 50%;\n",
              "    cursor: pointer;\n",
              "    display: none;\n",
              "    fill: var(--fill-color);\n",
              "    height: 32px;\n",
              "    padding: 0;\n",
              "    width: 32px;\n",
              "  }\n",
              "\n",
              "  .colab-df-quickchart:hover {\n",
              "    background-color: var(--hover-bg-color);\n",
              "    box-shadow: 0 1px 2px rgba(60, 64, 67, 0.3), 0 1px 3px 1px rgba(60, 64, 67, 0.15);\n",
              "    fill: var(--button-hover-fill-color);\n",
              "  }\n",
              "\n",
              "  .colab-df-quickchart-complete:disabled,\n",
              "  .colab-df-quickchart-complete:disabled:hover {\n",
              "    background-color: var(--disabled-bg-color);\n",
              "    fill: var(--disabled-fill-color);\n",
              "    box-shadow: none;\n",
              "  }\n",
              "\n",
              "  .colab-df-spinner {\n",
              "    border: 2px solid var(--fill-color);\n",
              "    border-color: transparent;\n",
              "    border-bottom-color: var(--fill-color);\n",
              "    animation:\n",
              "      spin 1s steps(1) infinite;\n",
              "  }\n",
              "\n",
              "  @keyframes spin {\n",
              "    0% {\n",
              "      border-color: transparent;\n",
              "      border-bottom-color: var(--fill-color);\n",
              "      border-left-color: var(--fill-color);\n",
              "    }\n",
              "    20% {\n",
              "      border-color: transparent;\n",
              "      border-left-color: var(--fill-color);\n",
              "      border-top-color: var(--fill-color);\n",
              "    }\n",
              "    30% {\n",
              "      border-color: transparent;\n",
              "      border-left-color: var(--fill-color);\n",
              "      border-top-color: var(--fill-color);\n",
              "      border-right-color: var(--fill-color);\n",
              "    }\n",
              "    40% {\n",
              "      border-color: transparent;\n",
              "      border-right-color: var(--fill-color);\n",
              "      border-top-color: var(--fill-color);\n",
              "    }\n",
              "    60% {\n",
              "      border-color: transparent;\n",
              "      border-right-color: var(--fill-color);\n",
              "    }\n",
              "    80% {\n",
              "      border-color: transparent;\n",
              "      border-right-color: var(--fill-color);\n",
              "      border-bottom-color: var(--fill-color);\n",
              "    }\n",
              "    90% {\n",
              "      border-color: transparent;\n",
              "      border-bottom-color: var(--fill-color);\n",
              "    }\n",
              "  }\n",
              "</style>\n",
              "\n",
              "  <script>\n",
              "    async function quickchart(key) {\n",
              "      const quickchartButtonEl =\n",
              "        document.querySelector('#' + key + ' button');\n",
              "      quickchartButtonEl.disabled = true;  // To prevent multiple clicks.\n",
              "      quickchartButtonEl.classList.add('colab-df-spinner');\n",
              "      try {\n",
              "        const charts = await google.colab.kernel.invokeFunction(\n",
              "            'suggestCharts', [key], {});\n",
              "      } catch (error) {\n",
              "        console.error('Error during call to suggestCharts:', error);\n",
              "      }\n",
              "      quickchartButtonEl.classList.remove('colab-df-spinner');\n",
              "      quickchartButtonEl.classList.add('colab-df-quickchart-complete');\n",
              "    }\n",
              "    (() => {\n",
              "      let quickchartButtonEl =\n",
              "        document.querySelector('#df-579bd6a9-9537-458e-86ba-7ab800df9185 button');\n",
              "      quickchartButtonEl.style.display =\n",
              "        google.colab.kernel.accessAllowed ? 'block' : 'none';\n",
              "    })();\n",
              "  </script>\n",
              "</div>\n",
              "    </div>\n",
              "  </div>\n"
            ]
          },
          "metadata": {},
          "execution_count": 103
        }
      ]
    },
    {
      "cell_type": "code",
      "source": [
        "df1=pd.read_csv(\"/content/data2016_hourly_mean.csv\")\n",
        "df2=pd.read_csv(\"/content/data2017_hourly_mean.csv\")\n",
        "df3=pd.read_csv(\"/content/data2018_hourly_mean.csv\")\n",
        "df4=pd.read_csv(\"/content/data2019_hourly_mean.csv\")\n",
        "df5=pd.read_csv(\"/content/data2020_hourly_mean.csv\")\n",
        "df6=pd.read_csv(\"/content/data2021_hourly_mean.csv\")"
      ],
      "metadata": {
        "id": "_gS8xF-lPFzK"
      },
      "execution_count": 99,
      "outputs": []
    },
    {
      "cell_type": "code",
      "source": [
        "combined_df=pd.concat([df1,df2,df3,df4,df5,df6],axis=0)"
      ],
      "metadata": {
        "id": "0koKz8Q4Pt_D"
      },
      "execution_count": 100,
      "outputs": []
    },
    {
      "cell_type": "code",
      "source": [],
      "metadata": {
        "id": "Ght7qlKgQCU0"
      },
      "execution_count": null,
      "outputs": []
    }
  ]
}